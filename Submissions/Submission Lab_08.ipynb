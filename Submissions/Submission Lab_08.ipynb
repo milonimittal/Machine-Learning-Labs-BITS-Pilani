{
  "nbformat": 4,
  "nbformat_minor": 0,
  "metadata": {
    "colab": {
      "name": "2017A3PS0243P_Lab8.ipynb",
      "provenance": [],
      "collapsed_sections": []
    },
    "kernelspec": {
      "name": "python3",
      "display_name": "Python 3"
    },
    "accelerator": "GPU"
  },
  "cells": [
    {
      "cell_type": "markdown",
      "metadata": {
        "id": "qAuELKr8V3Sc"
      },
      "source": [
        "# Session 08 - Neural Networks: Part 1\n",
        "\n",
        "\n",
        "\n",
        "> Before Starting, we will change the accelerator of this notebook from a CPU to a GPU, since we'll be running our Neural Networks on the GPU. \n",
        "\n",
        "> Go to Runtime --> Change Runtime Type --> GPU \n",
        "\n",
        "\n",
        "\n",
        "\n",
        "Welcome to the 8th practical session on Machine Learning. Today we're going to start learning about the most important and widely applied avenue of Machine Learning - *Deep Learning*. Deep Learning is nothing but a fancy word for Machine Learning applications with *Neural Networks*. \n",
        "\n",
        "But why does Deep Learning get to have a whole phrase dedicated to it? That's because Deep Learning is so flexible and efficient, that it can solve almost any problem in the modern age. Neural Networks have reached a point, where they can process almost any kind of data - videos, images, audio, text, tabular data, etc. And in a lot of applications, Neural Networks have been claimed to perform better than human performance. ([This](https://www.eff.org/ai/metrics) notebook provides a comparison of a lot of models on various benchmark problems along with human performance. You would get a general idea about the current state of Deep Learning).\n",
        " \n",
        "That's crazy if you think about it, since Artificial Intelligence literally aspires to be as good as human intelligence. We consider human intelligence to be the most superior, and every form of intelligence, including animal intelligence, and Artificial Intelligence is compared to human intelligence. So, you would now understand why there is so much hype about Deep Learning. Almost all research (including corporate research too) in Machine Learning is about Deep Learning now."
      ]
    },
    {
      "cell_type": "code",
      "metadata": {
        "id": "6IlT5nWCsB4r"
      },
      "source": [
        ""
      ],
      "execution_count": null,
      "outputs": []
    },
    {
      "cell_type": "markdown",
      "metadata": {
        "id": "jEq94zEdjezA"
      },
      "source": [
        "## What are Neural Networks?\n",
        "\n",
        "You may have seen a visual representation of Neural Networks before, something like the picture below.\n",
        "\n",
        "\n",
        "\n",
        "![](https://drive.google.com/uc?id=1oXydloc3m8yNmM17Z4CvI1L8F4APRJiN)\n",
        "\n",
        "This is nothing but an augmented version of the Linear Model we learned about in the Linear/Logistic Regression sessions. \n",
        "\n",
        "In the Linear Regression Model, we fed an input tensor (with different features $x_1$,$x_2$,...$x_n$ into the model $f(x) = w_1.x_1 + w_2.x_2 + w_3.x_3 + ..... + b$. (If you don't remember this, head back to the Linear Regression and Logisitic Regression sessions, and come back once you're clear with that concept!)\n",
        "\n",
        "Neural Networks are nothing but multiple Linear functions stacked on top of each other. \n",
        "\n",
        "So the output of linear model is fed to the next, and this is done multiple times. Finally we get an output just like we did in Linear/Logistic Regression models. \n",
        "\n",
        "But wait, why do we even need to stack multiple Linear models on top of each other?\n",
        "\n",
        "So, if you remember the Linear Regression session, you would know that the \"model\" is nothing but some mathematical function in the space of the feature vectors ($x_1$, $x_2$ and so on). Our job is to find that mathematical function that best solves a task (like a Cat vs Dog classification problem). \n",
        "\n",
        "But most of the times, the model is not necessarily as simple as a single Linear Function. Neural Networks is a series of linear functions, that apparantly, can represent *any* complexity of mathematical functions in space. The more the number of *layers*, or the number of linear stacks (in other words, the *deeper* the network) (Hence the name *Deep* Learning), the more complexity the model can handle. Isn't that an interesting approach?\n",
        "\n",
        "While Deep Learning may have gained popularity in the past decade only, Neural Networks are definitely not a new concept. They existed as back as in 1940s. There is a wonderful article by Stanford University on the history of Neural Nets. [Check it out](https://cs.stanford.edu/people/eroberts/courses/soco/projects/neural-networks/History/history1.html) if you want to know more! \n",
        "\n",
        "![](https://drive.google.com/uc?id=1zSbF-sQtR_-Ddf85vzjnfqCetOgAgJ2y)\n",
        "\n",
        "This is how a Neural Networks work. Remember? in the Linear/Logistic Regression Model we fed an input, and passed it through the linear function, and based on the output, made our predictions! Here too, we feed the input through multiple linear functions, and based on the final output, make our predictions. We will look at this in more detail below!\n",
        "\n",
        "In this session, we will learn how to build our own Neural Networks with PyTorch. We'll be learning how to use PyTorch's inbuilt functionality to vreate Neural Networks with minimal effort. Then we'll slowly breakdown each component and learn how to write them in python from scratch. That being said, this lab session has some really good lessons on python development, especially Object Oriented Programming concepts, which will help you develop better Machine Learning code for the rest of your life. Most Deep Learning practitioners are not good software developers, and so it is a valuable skill to master in order to develop efficient tools and techniques. "
      ]
    },
    {
      "cell_type": "markdown",
      "metadata": {
        "id": "h8A6dmaWqolR"
      },
      "source": [
        "## Case Study: A Classifier using Neural Networks\n",
        "\n",
        "Let us pick a problem and solve it using Neural Networks. For the purpose of this lab, we'll be using the [*Fruits Dataset*](https://www.kaggle.com/moltean/fruits), which contains images of 44 fruits and vegetables, which we wish to classify. For simplicity, we'll only be classifying bwtween any 2 categories for now. \n",
        "\n",
        "Lets us dowload this data from kaggle. First of all, upload your *kaggle.json* file. "
      ]
    },
    {
      "cell_type": "code",
      "metadata": {
        "id": "rvgHlJj7CVIf",
        "colab": {
          "resources": {
            "http://localhost:8080/nbextensions/google.colab/files.js": {
              "data": "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",
              "ok": true,
              "headers": [
                [
                  "content-type",
                  "application/javascript"
                ]
              ],
              "status": 200,
              "status_text": ""
            }
          },
          "base_uri": "https://localhost:8080/",
          "height": 198
        },
        "outputId": "79ca3c96-fabe-4047-a662-d4ae3e82c923"
      },
      "source": [
        "%cd \n",
        "from google.colab import files\n",
        "uploaded = files.upload()\n",
        "for fn in uploaded.keys():\n",
        "  print('User uploaded file \"{name}\" with length {length} bytes'.format(\n",
        "      name=fn, length=len(uploaded[fn])))\n",
        "!mkdir -p ~/.kaggle/ && mv kaggle.json ~/.kaggle/ && chmod 600 ~/.kaggle/kaggle.json \n",
        "\n",
        "!kaggle datasets download -d moltean/fruits\n",
        "!unzip fruits.zip >./tmp\n",
        "%cd fruits-360\n",
        "!ls"
      ],
      "execution_count": 1,
      "outputs": [
        {
          "output_type": "stream",
          "text": [
            "/root\n"
          ],
          "name": "stdout"
        },
        {
          "output_type": "display_data",
          "data": {
            "text/html": [
              "\n",
              "     <input type=\"file\" id=\"files-99e48b1b-4218-40d7-99d6-dda42096aee2\" name=\"files[]\" multiple disabled\n",
              "        style=\"border:none\" />\n",
              "     <output id=\"result-99e48b1b-4218-40d7-99d6-dda42096aee2\">\n",
              "      Upload widget is only available when the cell has been executed in the\n",
              "      current browser session. Please rerun this cell to enable.\n",
              "      </output>\n",
              "      <script src=\"/nbextensions/google.colab/files.js\"></script> "
            ],
            "text/plain": [
              "<IPython.core.display.HTML object>"
            ]
          },
          "metadata": {
            "tags": []
          }
        },
        {
          "output_type": "stream",
          "text": [
            "Saving kaggle.json to kaggle.json\n",
            "User uploaded file \"kaggle.json\" with length 72 bytes\n",
            "Downloading fruits.zip to /root\n",
            "100% 757M/760M [00:07<00:00, 98.6MB/s]\n",
            "100% 760M/760M [00:07<00:00, 102MB/s] \n",
            "/root/fruits-360\n",
            "LICENSE  papers  readme.md  Test  test-multiple_fruits\tTraining\n"
          ],
          "name": "stdout"
        }
      ]
    },
    {
      "cell_type": "markdown",
      "metadata": {
        "id": "vVMK0oTPdPkj"
      },
      "source": [
        "The following are the classes that we are dealing with."
      ]
    },
    {
      "cell_type": "code",
      "metadata": {
        "id": "DG29CV0gThCe",
        "colab": {
          "base_uri": "https://localhost:8080/"
        },
        "outputId": "9cc3f5e7-a09d-47a2-ccc7-892be495654f"
      },
      "source": [
        "!cd Training && ls"
      ],
      "execution_count": 2,
      "outputs": [
        {
          "output_type": "stream",
          "text": [
            "'Apple Braeburn'       'Grape Blue'\t     'Pear Monster'\n",
            "'Apple Crimson Snow'   'Grapefruit Pink'     'Pear Red'\n",
            "'Apple Golden 1'       'Grapefruit White'    'Pear Stone'\n",
            "'Apple Golden 2'       'Grape Pink'\t     'Pear Williams'\n",
            "'Apple Golden 3'       'Grape White'\t      Pepino\n",
            "'Apple Granny Smith'   'Grape White 2'\t     'Pepper Green'\n",
            "'Apple Pink Lady'      'Grape White 3'\t     'Pepper Orange'\n",
            "'Apple Red 1'\t       'Grape White 4'\t     'Pepper Red'\n",
            "'Apple Red 2'\t        Guava\t\t     'Pepper Yellow'\n",
            "'Apple Red 3'\t        Hazelnut\t      Physalis\n",
            "'Apple Red Delicious'   Huckleberry\t     'Physalis with Husk'\n",
            "'Apple Red Yellow 1'    Kaki\t\t      Pineapple\n",
            "'Apple Red Yellow 2'    Kiwi\t\t     'Pineapple Mini'\n",
            " Apricot\t        Kohlrabi\t     'Pitahaya Red'\n",
            " Avocado\t        Kumquats\t      Plum\n",
            "'Avocado ripe'\t        Lemon\t\t     'Plum 2'\n",
            " Banana\t\t       'Lemon Meyer'\t     'Plum 3'\n",
            "'Banana Lady Finger'    Limes\t\t      Pomegranate\n",
            "'Banana Red'\t        Lychee\t\t     'Pomelo Sweetie'\n",
            " Beetroot\t        Mandarine\t     'Potato Red'\n",
            " Blueberry\t        Mango\t\t     'Potato Red Washed'\n",
            "'Cactus fruit'\t       'Mango Red'\t     'Potato Sweet'\n",
            "'Cantaloupe 1'\t        Mangostan\t     'Potato White'\n",
            "'Cantaloupe 2'\t        Maracuja\t      Quince\n",
            " Carambula\t       'Melon Piel de Sapo'   Rambutan\n",
            " Cauliflower\t        Mulberry\t      Raspberry\n",
            "'Cherry 1'\t        Nectarine\t      Redcurrant\n",
            "'Cherry 2'\t       'Nectarine Flat'       Salak\n",
            "'Cherry Rainier'       'Nut Forest'\t      Strawberry\n",
            "'Cherry Wax Black'     'Nut Pecan'\t     'Strawberry Wedge'\n",
            "'Cherry Wax Red'       'Onion Red'\t      Tamarillo\n",
            "'Cherry Wax Yellow'    'Onion Red Peeled'     Tangelo\n",
            " Chestnut\t       'Onion White'\t     'Tomato 1'\n",
            " Clementine\t        Orange\t\t     'Tomato 2'\n",
            " Cocos\t\t        Papaya\t\t     'Tomato 3'\n",
            " Corn\t\t       'Passion Fruit'\t     'Tomato 4'\n",
            "'Corn Husk'\t        Peach\t\t     'Tomato Cherry Red'\n",
            "'Cucumber Ripe'        'Peach 2'\t     'Tomato Heart'\n",
            "'Cucumber Ripe 2'      'Peach Flat'\t     'Tomato Maroon'\n",
            " Dates\t\t        Pear\t\t     'Tomato not Ripened'\n",
            " Eggplant\t       'Pear 2'\t\t     'Tomato Yellow'\n",
            " Fig\t\t       'Pear Abate'\t      Walnut\n",
            "'Ginger Root'\t       'Pear Forelle'\t      Watermelon\n",
            " Granadilla\t       'Pear Kaiser'\n"
          ],
          "name": "stdout"
        }
      ]
    },
    {
      "cell_type": "markdown",
      "metadata": {
        "id": "owrI6Fu0dUdt"
      },
      "source": [
        "This dataset contains 100x100 pixel images for any category. So, for example, let us look at two categories  - Pears and Cauliflowers. Just fr visualization purposes, we'll be using the PIL library\n"
      ]
    },
    {
      "cell_type": "code",
      "metadata": {
        "id": "ks-QUJl8UcUC"
      },
      "source": [
        "from PIL import Image"
      ],
      "execution_count": 3,
      "outputs": []
    },
    {
      "cell_type": "code",
      "metadata": {
        "id": "ib2UgTS7UtgS",
        "colab": {
          "base_uri": "https://localhost:8080/",
          "height": 135
        },
        "outputId": "dcc43294-2115-4a7e-bbcf-95c999ec1793"
      },
      "source": [
        "im=Image.open('Training/Cauliflower/236_100.jpg')\n",
        "print(im.size)\n",
        "im"
      ],
      "execution_count": 4,
      "outputs": [
        {
          "output_type": "stream",
          "text": [
            "(100, 100)\n"
          ],
          "name": "stdout"
        },
        {
          "output_type": "execute_result",
          "data": {
            "image/png": "[encoded data removed]",
            "text/plain": [
              "<PIL.JpegImagePlugin.JpegImageFile image mode=RGB size=100x100 at 0x7F98CCC1A650>"
            ]
          },
          "metadata": {
            "tags": []
          },
          "execution_count": 4
        }
      ]
    },
    {
      "cell_type": "code",
      "metadata": {
        "id": "0Nl1AdoRU1B4",
        "colab": {
          "base_uri": "https://localhost:8080/",
          "height": 135
        },
        "outputId": "9bda2fdb-f2c1-424d-c6b2-6277862e8412"
      },
      "source": [
        "im=Image.open('Training/Pear/236_100.jpg')\n",
        "print(im.size)\n",
        "im"
      ],
      "execution_count": 5,
      "outputs": [
        {
          "output_type": "stream",
          "text": [
            "(100, 100)\n"
          ],
          "name": "stdout"
        },
        {
          "output_type": "execute_result",
          "data": {
            "image/png": "[encoded data removed]",
            "text/plain": [
              "<PIL.JpegImagePlugin.JpegImageFile image mode=RGB size=100x100 at 0x7F98CC563D90>"
            ]
          },
          "metadata": {
            "tags": []
          },
          "execution_count": 5
        }
      ]
    },
    {
      "cell_type": "markdown",
      "metadata": {
        "id": "QAtXUFCWnjZw"
      },
      "source": [
        "### Converting the data into PyTorch tensors\n",
        "\n",
        "As you may remember, PyTorch processes all data in the form of *tensors*, which are nothing but N-dimensional arrays. Our first job is to find a way to convert images to tensors and vice versa (just in case we wish to visualize tensors as images). \n",
        "\n",
        "A quick google search tells us that the *torchvision* module of the PyTorch library functions contains some classes that can do this for us. Let us create objects of these classes, namely `img2tensor` and `tensor2img`. The names are pretty self explanatory!\n",
        "\n",
        "\n",
        "\n",
        "> Lessons in Python:\n",
        "\n",
        "> *Class*\n",
        "\n",
        "> A class is a collection of different things, all under one roof. These things can be anything - data or functions  (these are the two broad categories that everything in programming can be put into, if you think about it). The data can be anything like - numbers, strings, *objects* of other classes *we'l look at *objects* next!), and functions are the peices of code that operate on this data, to provide us users with some functionality. (These functions within a class are also called as methods). \n",
        "\n",
        "> So, if you remember building models with SKLearn, we always used classes to build models. We first named our class something, and first gave it some *data* (usually our x's and y's) and then used the `.fit()` method (or function) to train the model!\n",
        "\n",
        "> Objects are nothing but the real world implementations of classes. Classes are only templates about how data and functions (attributes and methods, to be more precise) can exist together and function together to provide usefulness to the user! An object is like the physical version of a class, that Actually does tasks and stores data physically.\n",
        "\n",
        "> If you're not aware of the concept of classes and objects at all, it would be useful to spend some time learning about them. [Here](https://www.youtube.com/watch?v=n-DVyV2RjiY) is a video to help you understand the intuition behind them. The video teaches this concept in JAVA, which is a really old (classic) but popular language to learn object oriented programming (which is nothing but the style of programming, which contains lots and lots of classes and objects). \n",
        "\n",
        "> One we dive a little deeper into classes in python, we'll provide with more resources to learn about the more technical details.\n",
        "\n",
        "\n",
        "Python is a fully object oreiented programming language, meaning everything in python is an object of some class. Turns out, that objects are essential in data sciences, because of the flexibility they provide in bundling different data and functionality together, which is also one of the reasons why python is so famous for data sciences. \n",
        "\n",
        "Let us start with creating `img2tensor` and `tensor2img`, which are objects of the classes `ToTensor` and `ToPILImage`.\n"
      ]
    },
    {
      "cell_type": "code",
      "metadata": {
        "id": "4gTtc12VYVcv"
      },
      "source": [
        "from torchvision.transforms import ToTensor,ToPILImage\n",
        "img2tensor = ToTensor()\n",
        "tensor2img=ToPILImage()"
      ],
      "execution_count": 6,
      "outputs": []
    },
    {
      "cell_type": "markdown",
      "metadata": {
        "id": "jGfpR5fOox1C"
      },
      "source": [
        "Let us see these classes in action!"
      ]
    },
    {
      "cell_type": "code",
      "metadata": {
        "id": "B3B7Oi9UwIws",
        "colab": {
          "base_uri": "https://localhost:8080/"
        },
        "outputId": "fb49dcb8-393d-467e-a5a3-8273e2d3ee2c"
      },
      "source": [
        "img2tensor(im) #gives us a tensor"
      ],
      "execution_count": 7,
      "outputs": [
        {
          "output_type": "execute_result",
          "data": {
            "text/plain": [
              "tensor([[[1., 1., 1.,  ..., 1., 1., 1.],\n",
              "         [1., 1., 1.,  ..., 1., 1., 1.],\n",
              "         [1., 1., 1.,  ..., 1., 1., 1.],\n",
              "         ...,\n",
              "         [1., 1., 1.,  ..., 1., 1., 1.],\n",
              "         [1., 1., 1.,  ..., 1., 1., 1.],\n",
              "         [1., 1., 1.,  ..., 1., 1., 1.]],\n",
              "\n",
              "        [[1., 1., 1.,  ..., 1., 1., 1.],\n",
              "         [1., 1., 1.,  ..., 1., 1., 1.],\n",
              "         [1., 1., 1.,  ..., 1., 1., 1.],\n",
              "         ...,\n",
              "         [1., 1., 1.,  ..., 1., 1., 1.],\n",
              "         [1., 1., 1.,  ..., 1., 1., 1.],\n",
              "         [1., 1., 1.,  ..., 1., 1., 1.]],\n",
              "\n",
              "        [[1., 1., 1.,  ..., 1., 1., 1.],\n",
              "         [1., 1., 1.,  ..., 1., 1., 1.],\n",
              "         [1., 1., 1.,  ..., 1., 1., 1.],\n",
              "         ...,\n",
              "         [1., 1., 1.,  ..., 1., 1., 1.],\n",
              "         [1., 1., 1.,  ..., 1., 1., 1.],\n",
              "         [1., 1., 1.,  ..., 1., 1., 1.]]])"
            ]
          },
          "metadata": {
            "tags": []
          },
          "execution_count": 7
        }
      ]
    },
    {
      "cell_type": "code",
      "metadata": {
        "id": "VSUmGdevfnRP",
        "colab": {
          "base_uri": "https://localhost:8080/"
        },
        "outputId": "4616224e-5def-4754-fe54-04fffc9d6d96"
      },
      "source": [
        "img2tensor(im).shape"
      ],
      "execution_count": 8,
      "outputs": [
        {
          "output_type": "execute_result",
          "data": {
            "text/plain": [
              "torch.Size([3, 100, 100])"
            ]
          },
          "metadata": {
            "tags": []
          },
          "execution_count": 8
        }
      ]
    },
    {
      "cell_type": "markdown",
      "metadata": {
        "id": "lPkE0fwEwRBU"
      },
      "source": [
        "`img2tensor` takes in a PIL image as input, and gives a tensor as an output. \n",
        "\n",
        "Notice how `img2tensor` is an object of a class, but is used like function. This is a special feature of python. We have the liberty to define the functionality of an object, when it is used like a function. (like `output = object_name(input)` We will learn about this in more detail below. \n",
        "\n",
        "But first let us move ahead. Next, we need to go to the location where all images are, and convert each image to a tensor so that we can get the final `x` and `y` for our model!. To handle paths, we use the `pathlib` library. And to navigate through directories, we use the `os` library in python."
      ]
    },
    {
      "cell_type": "code",
      "metadata": {
        "id": "Alr62wgZfvb-"
      },
      "source": [
        "import os\n",
        "from pathlib import Path\n",
        "Path.ls =lambda x: os.listdir(x) # this funcitonality gives us the contents of a directory, in a LINUX style command (\"ls\")"
      ],
      "execution_count": 9,
      "outputs": []
    },
    {
      "cell_type": "markdown",
      "metadata": {
        "id": "LPdJe-Sox-ii"
      },
      "source": [
        "Next, we've written a function that takes in the paths of all the directories where are images are (for example, if our model contains data on cauliflowers and pears, we will pass in the paths where cauliflower and pear images are). And the model returns the `x` tensors and the corresponding ground truth labels `y`. \n",
        "\n",
        "Now, since we are dealing with tensors, we need the PyTorch library (`torch`), to handle tensors. So we import that!"
      ]
    },
    {
      "cell_type": "code",
      "metadata": {
        "id": "i04C1QU_glei"
      },
      "source": [
        "import torch"
      ],
      "execution_count": 10,
      "outputs": []
    },
    {
      "cell_type": "code",
      "metadata": {
        "id": "zlRFmHXFgu2I"
      },
      "source": [
        "def get_tensors_from_folder(folder_paths:list=None,normalize_x=True,preprocess_y=True):\n",
        "    f\"\"\"\n",
        "    Takes in the paths of all the categories that need to be considered, and returns a collective tensor for the input tensors and the target tensors. \n",
        "    normalize_x: Default True. If True, the function will automatically Gaussian normalize the input tensor x.\n",
        "    preprocess_y: Default True. If True, the function will convert the labels to a series of numbers ranging from 0 to N-1, where N is the number of classes(categories). \n",
        "                                This is important if your classes are strings, or unordered. Computers cannot understand anything other than numbers. More than that, \n",
        "                                Neural Networks, as you will see, only understand categories that go as 0,1,2,....N-1 (if there are N categories to be classified in total.)\n",
        "    \"\"\"\n",
        "    x = None \n",
        "    y = []\n",
        "    folder_paths=list(folder_paths)\n",
        "\n",
        "    for folder_path in folder_paths:\n",
        "        for img_path in folder_path.ls():\n",
        "            x=torch.cat((img2tensor(Image.open(folder_path/img_path))[None],x)) if x is not None else img2tensor(Image.open(folder_path/img_path))[None]\n",
        "            # y=torch.cat((torch.Tensor(folder_path.stem),y)) if y is not None else torch.Tensor(folder_path.stem)\n",
        "            y.append(folder_path.stem)\n",
        "\n",
        "    if normalize_x: \n",
        "        x.sub_(x.mean()).div_(x.std())\n",
        "    if preprocess_y:\n",
        "        proc={v:k for k,v in enumerate(sorted(set(y)))}\n",
        "        y=[proc[v] for v in y]\n",
        "\n",
        "    y=torch.Tensor(y).long()\n",
        "    return x.reshape(x.shape[0],-1),y"
      ],
      "execution_count": 11,
      "outputs": []
    },
    {
      "cell_type": "markdown",
      "metadata": {
        "id": "W-B-ZtgU0PJn"
      },
      "source": [
        "So, now that we've defined the function to retrieve the relevant tensors, we will use it to derive the training `x` and `y` tensors and the testing `x` and `y` tensors. "
      ]
    },
    {
      "cell_type": "code",
      "metadata": {
        "id": "o9lO4cyjKm6W",
        "colab": {
          "base_uri": "https://localhost:8080/"
        },
        "outputId": "8cb0ab17-36a2-4622-ae6b-64a8a5d0a63f"
      },
      "source": [
        "path_cauliflowers = Path('Training/Cauliflower')\n",
        "path_pears=Path('Training/Pear')\n",
        "\n",
        "x_train,y_train=get_tensors_from_folder([path_cauliflowers,path_pears])\n",
        "x_train.shape, y_train.shape"
      ],
      "execution_count": 12,
      "outputs": [
        {
          "output_type": "execute_result",
          "data": {
            "text/plain": [
              "(torch.Size([1194, 30000]), torch.Size([1194]))"
            ]
          },
          "metadata": {
            "tags": []
          },
          "execution_count": 12
        }
      ]
    },
    {
      "cell_type": "code",
      "metadata": {
        "id": "7zVYjX4iSbB9",
        "colab": {
          "base_uri": "https://localhost:8080/"
        },
        "outputId": "625312f1-4766-4b35-a32c-1181f7fc9ef8"
      },
      "source": [
        "path_cauliflowers = Path('Test/Cauliflower')\n",
        "path_pears = Path('Test/Pear')\n",
        "\n",
        "x_test,y_test = get_tensors_from_folder([path_pears,path_cauliflowers])\n",
        "x_test.shape,y_test.shape"
      ],
      "execution_count": 13,
      "outputs": [
        {
          "output_type": "execute_result",
          "data": {
            "text/plain": [
              "(torch.Size([398, 30000]), torch.Size([398]))"
            ]
          },
          "metadata": {
            "tags": []
          },
          "execution_count": 13
        }
      ]
    },
    {
      "cell_type": "markdown",
      "metadata": {
        "id": "A4dTzCk10jOC"
      },
      "source": [
        "## Datasets and Dataloaders\n",
        "\n",
        "Next, we need to learn about 2 important concepts in datasciences - Dataset and Dataloaders.\n",
        "\n",
        "Dataset: A Dataset is nothing but a class which bundles the `x` and `y`. This is important, because its very inefficient to have to specify x and y separately everytime. They always go together. So the dataset class makes our life easier, by simply bundling x and y. You can simply retrieve the individual x and y by calling the attributes `dataset.x` and `dataset.y`.\n",
        "\n",
        "Below is a simple implementation of the Dataset class. \n",
        "\n",
        "Any dataset class should have three properties\n",
        "\n",
        "* It should have `x` and `y` as its attributes. \n",
        "* We should be able to get the length of the dataset (with the `__len__` (pronounced dunder len) method)\n",
        "* We should be able to get a specific value by index (with the `__getitem__` method)"
      ]
    },
    {
      "cell_type": "code",
      "metadata": {
        "id": "PBkwUgfkV-Vq"
      },
      "source": [
        "class Dataset(): # to wrap x and y together\n",
        "    def __init__(self, x,y):self.x,self.y=x,y # __init__ is pythons way to initiate classes into objects. self.x is basically the process of setting x as an attribute of the object\n",
        "    def __len__(self): return self.x.shape[0]\n",
        "    def __getitem__(self,i): return self.x[i], self.y[i]"
      ],
      "execution_count": 14,
      "outputs": []
    },
    {
      "cell_type": "code",
      "metadata": {
        "id": "eOhGHPIEWjEE",
        "colab": {
          "base_uri": "https://localhost:8080/"
        },
        "outputId": "58968d18-7ab8-4e87-c5aa-408a5ee8dd6d"
      },
      "source": [
        "#Let us derive the training dataset\n",
        "train_ds=Dataset(x_train,y_train)\n",
        "len(train_ds) # we can use len on train_ds, because of the __len__ method"
      ],
      "execution_count": 15,
      "outputs": [
        {
          "output_type": "execute_result",
          "data": {
            "text/plain": [
              "1194"
            ]
          },
          "metadata": {
            "tags": []
          },
          "execution_count": 15
        }
      ]
    },
    {
      "cell_type": "code",
      "metadata": {
        "id": "0QbqZUzFXwVM",
        "colab": {
          "base_uri": "https://localhost:8080/"
        },
        "outputId": "9921e0b4-1466-4c78-97cf-989365291484"
      },
      "source": [
        "train_ds[0] # __getitem__"
      ],
      "execution_count": 16,
      "outputs": [
        {
          "output_type": "execute_result",
          "data": {
            "text/plain": [
              "(tensor([1.1289, 1.1289, 1.1289,  ..., 1.1289, 1.1289, 1.1289]), tensor(0))"
            ]
          },
          "metadata": {
            "tags": []
          },
          "execution_count": 16
        }
      ]
    },
    {
      "cell_type": "code",
      "metadata": {
        "id": "wJ25DQ5pXzAO",
        "colab": {
          "base_uri": "https://localhost:8080/"
        },
        "outputId": "c4f2f51e-1996-4def-8f62-50fe3fa3fa10"
      },
      "source": [
        "#similarly let us derive the Validation Dataset\n",
        "valid_ds=Dataset(x_test,y_test)\n",
        "len(valid_ds)"
      ],
      "execution_count": 17,
      "outputs": [
        {
          "output_type": "execute_result",
          "data": {
            "text/plain": [
              "398"
            ]
          },
          "metadata": {
            "tags": []
          },
          "execution_count": 17
        }
      ]
    },
    {
      "cell_type": "markdown",
      "metadata": {
        "id": "pucpG2CT3Lb-"
      },
      "source": [
        "Lessons in Python.\n",
        "You may have used len and list_name[i] very frequently in the case of lists. Even list is a class in python, which ultimately implements the `__len__` and `__getitem__` methods "
      ]
    },
    {
      "cell_type": "code",
      "metadata": {
        "id": "JY565uIk24xF",
        "colab": {
          "base_uri": "https://localhost:8080/"
        },
        "outputId": "3b5831d2-b870-4b83-b641-48155730a75a"
      },
      "source": [
        "my_list=[1,2,3,4,5]\n",
        "len(my_list), my_list.__len__()"
      ],
      "execution_count": 18,
      "outputs": [
        {
          "output_type": "execute_result",
          "data": {
            "text/plain": [
              "(5, 5)"
            ]
          },
          "metadata": {
            "tags": []
          },
          "execution_count": 18
        }
      ]
    },
    {
      "cell_type": "code",
      "metadata": {
        "id": "ZT9Q2A8N3GAk",
        "colab": {
          "base_uri": "https://localhost:8080/"
        },
        "outputId": "a1ff47c9-6b7b-4bba-ce7c-21a0cc4aa3d1"
      },
      "source": [
        "my_list[0], my_list.__getitem__(0)"
      ],
      "execution_count": 19,
      "outputs": [
        {
          "output_type": "execute_result",
          "data": {
            "text/plain": [
              "(1, 1)"
            ]
          },
          "metadata": {
            "tags": []
          },
          "execution_count": 19
        }
      ]
    },
    {
      "cell_type": "markdown",
      "metadata": {
        "id": "5jE-23Ld4HXA"
      },
      "source": [
        "The next concept is dataloaders. \n",
        "A dataloader is a convenient class in python that does 2 things.\n",
        "1. It loads the data into the model (that we are going to build). Sometimes, it is not a wise idea to feed all the data into the model at once, because of memory constraints, so the dataloader can also feed data to the model in batches.\n",
        "2. The dataloader can also make sure that the data is loaded onto the correct device (CPU or GPU). By default, everything is on the CPU, so you need to explicitly load the data on the GPU, if you wish so. So, dataloaders can save us from this unnecessary effort!\n",
        "\n",
        "> What is a GPU?\n",
        "\n",
        "> A GPU stands for Graphical Processing Unit (Just like CPU stands for Central Processing Unit). Its also known as a graphics card. If anyone of you is interested in gaming, you would know what a graphics card is! A GPU is like a CPU, but multitudes faster (sometimes millions of times faster). A GPU can do matrix multiplications and additions very fast, which is exactly what the graphics of any video game are - lots and lots of matrix operations. A CPU is much more capable of handling more complex operations than matrix operations, but a GPU, even though less capable of doing complex operations, is very fast at doing these basic operations. Turns out, that Deep Learning is nothing but a lot of matrix multiplications and additions, which is why we use GPUs for Deep Learning.\n",
        "\n",
        "> There's a newer type of device, called the TPU, or the Tensor Processing Unit, which is a GPU, but meant specifically for Tensor Operations. So, a TPU can ideally handle much less complexity than a GPU, but can perform Deep Learning related operations at a much faster rate. They are still not commercially used, because \n",
        "1. They are still very costly\n",
        "2. Because the community awareness is still low, there isnt much support for TPUs in deep learning libraries. It will take a few years, before TPUs become mainstream.\n",
        "\n",
        "PyTorch implements DataLoaders for us. We will use that!"
      ]
    },
    {
      "cell_type": "code",
      "metadata": {
        "id": "3f59sexLS5lk"
      },
      "source": [
        "from torch.utils.data import DataLoader"
      ],
      "execution_count": 20,
      "outputs": []
    },
    {
      "cell_type": "code",
      "metadata": {
        "id": "xwHbr2rPX-Jg"
      },
      "source": [
        "train_dl=DataLoader(train_ds,batch_size=64,shuffle=True)\n",
        "valid_dl=DataLoader(valid_ds,batch_size=128,shuffle=True) #batch_size double the batch_size of train_dl since valid_dl doesnt require gradients, so less space will be used, and thus batch_size can be increased. "
      ],
      "execution_count": 21,
      "outputs": []
    },
    {
      "cell_type": "markdown",
      "metadata": {
        "id": "8LWvF3Yc6_8X"
      },
      "source": [
        "As you can see that, the DataLoader takes in a dataset, along with `batch_size` and an option to specify whether the data should be returned in random order, or in the same order as given in the dataset.\n",
        "\n",
        "This dataloader now works just like an iterator."
      ]
    },
    {
      "cell_type": "code",
      "metadata": {
        "id": "5kauDiRuYdPj",
        "colab": {
          "base_uri": "https://localhost:8080/"
        },
        "outputId": "966f77ba-d67c-40e3-fce5-49e91fed76a9"
      },
      "source": [
        "len(train_dl)"
      ],
      "execution_count": 22,
      "outputs": [
        {
          "output_type": "execute_result",
          "data": {
            "text/plain": [
              "19"
            ]
          },
          "metadata": {
            "tags": []
          },
          "execution_count": 22
        }
      ]
    },
    {
      "cell_type": "code",
      "metadata": {
        "id": "7jmtsvd5YiS0",
        "colab": {
          "base_uri": "https://localhost:8080/"
        },
        "outputId": "c5387615-3d9f-403f-fa0d-1c430d912016"
      },
      "source": [
        "for x,y in train_dl: print(x.shape, end=' ')"
      ],
      "execution_count": 23,
      "outputs": [
        {
          "output_type": "stream",
          "text": [
            "torch.Size([64, 30000]) torch.Size([64, 30000]) torch.Size([64, 30000]) torch.Size([64, 30000]) torch.Size([64, 30000]) torch.Size([64, 30000]) torch.Size([64, 30000]) torch.Size([64, 30000]) torch.Size([64, 30000]) torch.Size([64, 30000]) torch.Size([64, 30000]) torch.Size([64, 30000]) torch.Size([64, 30000]) torch.Size([64, 30000]) torch.Size([64, 30000]) torch.Size([64, 30000]) torch.Size([64, 30000]) torch.Size([64, 30000]) torch.Size([42, 30000]) "
          ],
          "name": "stdout"
        }
      ]
    },
    {
      "cell_type": "markdown",
      "metadata": {
        "id": "uc3W_3T27n1g"
      },
      "source": [
        "We can simply feed in one batch of size 64 to the model at once. "
      ]
    },
    {
      "cell_type": "markdown",
      "metadata": {
        "id": "TKrxQa797k1Y"
      },
      "source": [
        "Now that we are set up with our data, let us move onto building our Neural Networks"
      ]
    },
    {
      "cell_type": "markdown",
      "metadata": {
        "id": "Mg0d5-vx7hs6"
      },
      "source": [
        "## Creating our own Neural Network\n",
        "\n",
        "PyTorch provides us with a really easy way to define Neural Networks, by simply stacking the different components (or layers) in a function called `Sequential`. \n",
        "\n",
        "PyTorch provides a module called `nn` which contains all Neural Network architecture related stuff\n",
        "\n",
        "\n"
      ]
    },
    {
      "cell_type": "code",
      "metadata": {
        "id": "uuHd2mdjYbsA"
      },
      "source": [
        "from torch import nn"
      ],
      "execution_count": 24,
      "outputs": []
    },
    {
      "cell_type": "code",
      "metadata": {
        "id": "oNxnQZoQQltg"
      },
      "source": [
        "def model(in_features,hidden_features,out_features): \n",
        "    return nn.Sequential(nn.Linear(in_features,hidden_features), nn.ReLU(), nn.Linear(hidden_features,out_features),nn.Sigmoid())"
      ],
      "execution_count": 25,
      "outputs": []
    },
    {
      "cell_type": "markdown",
      "metadata": {
        "id": "J77RogE78bfX"
      },
      "source": [
        "What does \n",
        "\n",
        "```nn.Sequential(nn.Linear(in_features,hidden_features), nn.ReLU(), nn.Linear(hidden_features,out_features), nn.Sigmoid())``` \n",
        "\n",
        "do ?\n",
        "\n",
        "First of all, what are nn.Linear, nn.ReLU, and nn.Sigmoid?\n",
        "\n",
        "nn.Linear is nothing but a linear model class. It is the implementation of the linear model we defined in the Linear/Logistic Regression session. That's the basic building block of a Neural Network.\n",
        "\n",
        "nn.ReLU is the implementation of the *ReLU* Activation function, or the Rectified Linear Unit. We've seen the sigmoid activation function. The ReLU activation function looks like this.  \n",
        "\n",
        "![](https://drive.google.com/uc?id=1YzqTmE-VLvLRzAj19Hde1vlcXv1JJNBr)\n",
        "\n",
        "And is simply defined as \n",
        "\n",
        "$$ReLU(z) = max(0,z)$$\n",
        "\n",
        "What is an activation function anyways?\n",
        "\n",
        "### Activation Functions\n",
        "\n",
        "As you know, a Neural Network is nothing but a stack different linear functions. But if you analyze a simple linear stack mathematically, as follows...\n",
        "\n",
        "$$y_1=w_1.x + b_1$$\n",
        "$$y_2 = w_2.y_1 + b_2 $$\n",
        "\n",
        "$y_2$ can be simplified as:\n",
        "\n",
        "$$y_2 = w_2(w_1.x_1 + b_1) + b_2 $$\n",
        "$$ y_2 = w_2.w_1.x_1 + (w_2.b_1 + b_2)$$\n",
        "\n",
        "which is nothing but another linear function\n",
        "\n",
        "$$ y_2 = W.x_1 + B $$\n",
        "\n",
        "which is exactly what $y_1$ could have represented. Then what was the point of stacking multiple linear layers? The ultimate point of stacking linear layers was because a single linear layer could not represent the complexity of functions in space. \n",
        "\n",
        "You can try stacking 3,4, or even more linear layers together, and write them mathematically, then simplify them, and see, that the final result will still be equivalent to one linear layer. \n",
        "\n",
        "So, how do we overcome this problem? This is where Activation Functions come into use. Activation Functions are non-linearities put in between of two linear layers. It turns out that that because of this non-linearity, the resulting model can achieve any level of complexity, with as little as 2 layers. Infact, a research proposed that with just 2 layers of Neural Networks (excluding the output layer), with a non-linearity activation function, can achieve arbitrarily any level of model complexity. Obviously, this is only in theory, and in practice you need more than 2 layers to achieve a level of complexity, which is why many Neural Nets have 100s, maybe even 1000s of layers. \n",
        "\n",
        "For now, we'll be focussing on only 2 layers (the input layer, and the hidden layer). (Hidden Layer is basically any linear layer in between the output and the input layer, both excluded. Refer to the figure in the beginning of this notebook).\n",
        "\n",
        "There are many activation functions. Even Sigmoid is an activation function. Infact, in the earlier days, sigmoid was used in place of ReLU. But now, we only use ReLU as the activation function. \n",
        "\n",
        " ---\n",
        "\n",
        "Finally nn.Sigmoid is the implementation of the sigmoid function. Just like in the logistic regression model, we use sigmoid to scale the output between 0 and 1. This helps us interpret the model output better, in terms of probability. \n",
        "\n",
        "nn.Sequential stacks all these components together.\n",
        "When we write\n",
        "\n",
        "``` nn.Sequential(nn.Linear(in_features,hidden_features), nn.ReLU(), nn.Linear(hidden_features,out_features),nn.Sigmoid())```\n",
        "\n",
        "When you feed data into this, the data fill be fed into the first layer of the stack, ie nn.Linear. The output of this Linear layer is fed into ReLU, the output of the ReLU is fed into the second Linear Layer, and finally the output of the Linear layer is fed to the Sigmoid function. \n",
        "\n",
        "The output of the Sigmoid function is our final output function, and we will make predictions based on that \n",
        " "
      ]
    },
    {
      "cell_type": "code",
      "metadata": {
        "id": "Ev3BZbJ1Q_nY",
        "colab": {
          "base_uri": "https://localhost:8080/"
        },
        "outputId": "ab33625d-e249-41e6-aae7-6d43e701a542"
      },
      "source": [
        "my_model = model(x_train.shape[-1],50,2)\n",
        "my_model #prints out all the modules # uses the __repr__ method"
      ],
      "execution_count": 26,
      "outputs": [
        {
          "output_type": "execute_result",
          "data": {
            "text/plain": [
              "Sequential(\n",
              "  (0): Linear(in_features=30000, out_features=50, bias=True)\n",
              "  (1): ReLU()\n",
              "  (2): Linear(in_features=50, out_features=2, bias=True)\n",
              "  (3): Sigmoid()\n",
              ")"
            ]
          },
          "metadata": {
            "tags": []
          },
          "execution_count": 26
        }
      ]
    },
    {
      "cell_type": "markdown",
      "metadata": {
        "id": "xqmgrVUxFypH"
      },
      "source": [
        "You can see the different layers in `my_model`.\n",
        "\n",
        "nn.Sequential has some wonderful properties. It provides methods like the `.parameters` to return the list of learnable parameters in the model. So, if you remember the gradient descent algorithm from the Linear/Logistic Regression session, you would know that we need to update parameters. So nn.Sequential makes it easy for the model to recognize which data are the parameters."
      ]
    },
    {
      "cell_type": "code",
      "metadata": {
        "id": "PObb0w2ZbWXh",
        "colab": {
          "base_uri": "https://localhost:8080/"
        },
        "outputId": "419c08ea-2f09-495a-ebc3-2fcbb0be5e94"
      },
      "source": [
        "for p in my_model.parameters(): print(p.shape)"
      ],
      "execution_count": 27,
      "outputs": [
        {
          "output_type": "stream",
          "text": [
            "torch.Size([50, 30000])\n",
            "torch.Size([50])\n",
            "torch.Size([2, 50])\n",
            "torch.Size([2])\n"
          ],
          "name": "stdout"
        }
      ]
    },
    {
      "cell_type": "markdown",
      "metadata": {
        "id": "opZrXO5ZGdEe"
      },
      "source": [
        "And we can simply use my_model as a function (even though its a class object). As seen below. This comes by implementing the `__call__` method, which tells the object to do something, if the object is directly used as a function. So the `__call__` method of the nn.Sequential must be implementing the functionality to pass the input through all the layers in the model and returning the output "
      ]
    },
    {
      "cell_type": "code",
      "metadata": {
        "id": "zWsHrHfJcT6M"
      },
      "source": [
        "xb,yb=next(iter(train_dl))\n",
        "pred = my_model(xb)"
      ],
      "execution_count": 28,
      "outputs": []
    },
    {
      "cell_type": "code",
      "metadata": {
        "id": "LlxdDaE0GnnW"
      },
      "source": [
        "??my_model.__call__\n",
        "# You can see, that there is some implementation of __call__, in the form of _call_impl . Details dont matter as of now"
      ],
      "execution_count": 29,
      "outputs": []
    },
    {
      "cell_type": "markdown",
      "metadata": {
        "id": "djgXIE49Lu24"
      },
      "source": [
        "What do the predictions from the model look like? Let us analyze the `pred` tensor"
      ]
    },
    {
      "cell_type": "code",
      "metadata": {
        "id": "R4c6ojlydEP2",
        "colab": {
          "base_uri": "https://localhost:8080/"
        },
        "outputId": "41640457-6dc2-43f8-8963-be0dc040a3ae"
      },
      "source": [
        "pred.shape"
      ],
      "execution_count": 30,
      "outputs": [
        {
          "output_type": "execute_result",
          "data": {
            "text/plain": [
              "torch.Size([64, 2])"
            ]
          },
          "metadata": {
            "tags": []
          },
          "execution_count": 30
        }
      ]
    },
    {
      "cell_type": "markdown",
      "metadata": {
        "id": "u9xW2Y0aL0GO"
      },
      "source": [
        "`pred` is basically a tensor of 2 values for every one of the 64 inputs. These 2 outputs per input is basically the prediction of the probability of each one of the 2 categories (pears and cauliflowers). As we saw earlier, whichever neuron has the highest value, is basically the prediction of the model for that input. "
      ]
    },
    {
      "cell_type": "code",
      "metadata": {
        "id": "f3D6q_2KdGXX",
        "colab": {
          "base_uri": "https://localhost:8080/"
        },
        "outputId": "369aef64-66c6-44f6-fe04-fffec796d3f2"
      },
      "source": [
        "pred"
      ],
      "execution_count": 31,
      "outputs": [
        {
          "output_type": "execute_result",
          "data": {
            "text/plain": [
              "tensor([[0.3833, 0.4453],\n",
              "        [0.3914, 0.5194],\n",
              "        [0.4474, 0.4746],\n",
              "        [0.4516, 0.4708],\n",
              "        [0.4544, 0.4482],\n",
              "        [0.3784, 0.4595],\n",
              "        [0.4175, 0.4766],\n",
              "        [0.4270, 0.4797],\n",
              "        [0.4373, 0.4464],\n",
              "        [0.4016, 0.5360],\n",
              "        [0.4669, 0.4883],\n",
              "        [0.4047, 0.4949],\n",
              "        [0.3690, 0.5035],\n",
              "        [0.4058, 0.4649],\n",
              "        [0.4125, 0.4742],\n",
              "        [0.3700, 0.5096],\n",
              "        [0.4636, 0.4378],\n",
              "        [0.3945, 0.5354],\n",
              "        [0.4139, 0.5078],\n",
              "        [0.3219, 0.5468],\n",
              "        [0.4128, 0.5056],\n",
              "        [0.3794, 0.4974],\n",
              "        [0.4461, 0.4718],\n",
              "        [0.4201, 0.5313],\n",
              "        [0.4159, 0.4373],\n",
              "        [0.4222, 0.4741],\n",
              "        [0.3797, 0.4554],\n",
              "        [0.4523, 0.4756],\n",
              "        [0.3904, 0.4638],\n",
              "        [0.4353, 0.4738],\n",
              "        [0.4221, 0.4916],\n",
              "        [0.4223, 0.4346],\n",
              "        [0.3595, 0.4963],\n",
              "        [0.4511, 0.4799],\n",
              "        [0.3754, 0.4513],\n",
              "        [0.3507, 0.4992],\n",
              "        [0.4474, 0.4693],\n",
              "        [0.3806, 0.4291],\n",
              "        [0.4440, 0.4707],\n",
              "        [0.3790, 0.4260],\n",
              "        [0.4574, 0.4535],\n",
              "        [0.4467, 0.4427],\n",
              "        [0.4128, 0.4437],\n",
              "        [0.3670, 0.5223],\n",
              "        [0.4165, 0.4485],\n",
              "        [0.4405, 0.4507],\n",
              "        [0.4220, 0.4234],\n",
              "        [0.4245, 0.4608],\n",
              "        [0.4199, 0.5276],\n",
              "        [0.4173, 0.4734],\n",
              "        [0.4049, 0.4777],\n",
              "        [0.3762, 0.5060],\n",
              "        [0.3961, 0.5090],\n",
              "        [0.3639, 0.4903],\n",
              "        [0.4195, 0.4954],\n",
              "        [0.3815, 0.5107],\n",
              "        [0.3637, 0.5021],\n",
              "        [0.4781, 0.5270],\n",
              "        [0.4758, 0.4586],\n",
              "        [0.4258, 0.4624],\n",
              "        [0.3785, 0.4934],\n",
              "        [0.4093, 0.4366],\n",
              "        [0.4411, 0.4435],\n",
              "        [0.3862, 0.5029]], grad_fn=<SigmoidBackward>)"
            ]
          },
          "metadata": {
            "tags": []
          },
          "execution_count": 31
        }
      ]
    },
    {
      "cell_type": "markdown",
      "metadata": {
        "id": "klKsj9FUHV-R"
      },
      "source": [
        "## Gradient Descent on Neural Networks.\n",
        "\n",
        "Next, we will simply apply the **Gradient Descent** Algoithm to optimize our Neural Nets. If you don't remember what Gradient Descent is, head back to the Linear Regression and Logistic Regression sessions to understand it, and then come back!\n",
        "\n",
        "The steps are the same. \n",
        "1. Get predictions from the model\n",
        "2. Calculate loss function\n",
        "3. Derive Gradients of parameters with respect to the loss function\n",
        "4. Update the parameters by a specific step size (called as learning rate)\n",
        "5. Calculate the accuracy on the validation/test dataset to find out how good your model is performing\n",
        "6. Repeat this process for many iterations (or *epochs*)\n",
        "\n",
        "We implemented this from scratch earlier. But now, we will use PyTorch's built in Gradient Descent Algorithm. "
      ]
    },
    {
      "cell_type": "code",
      "metadata": {
        "id": "Q7A_fK05ZswU"
      },
      "source": [
        "learning_rate = 0.001\n",
        "optimizer = torch.optim.SGD(my_model.parameters(), lr=learning_rate)"
      ],
      "execution_count": 32,
      "outputs": []
    },
    {
      "cell_type": "markdown",
      "metadata": {
        "id": "OBAd5AhxI9C4"
      },
      "source": [
        "And we will also use the Cross Entropy Loss function inbuilt in PyTorch. If you dont remember what the Cross Entropy loss function does, head back to the Logisitic Regression session!"
      ]
    },
    {
      "cell_type": "code",
      "metadata": {
        "id": "cCpUeHHEdI0W"
      },
      "source": [
        "loss_fn=torch.nn.CrossEntropyLoss()"
      ],
      "execution_count": 33,
      "outputs": []
    },
    {
      "cell_type": "markdown",
      "metadata": {
        "id": "qtwh8P7uJP1p"
      },
      "source": [
        "Next, we will pass the input through the model, and calculate the loss. Passing the data through the model is called a **forward pass** through the model."
      ]
    },
    {
      "cell_type": "code",
      "metadata": {
        "id": "xMdcwlUFhEhe"
      },
      "source": [
        "# FORWARD PASS\n",
        "pred=my_model(xb) # we only pass one batch at a time. Because many a times, the entire dataset is too large for the model to handle at once\n",
        "loss=loss_fn(pred,yb)"
      ],
      "execution_count": 34,
      "outputs": []
    },
    {
      "cell_type": "markdown",
      "metadata": {
        "id": "ikU5CNFVJkDn"
      },
      "source": [
        "And we calculate the gradients after this. You don't have to implement the gradient calculations on your own. PyTorch does that for you!\n",
        "\n",
        "You would remember from the Linear/Logistic Regression session that we simply wrote `loss.backward` to calculate the *gradient of all parameters with respect to the loss`. (Now you understand why nn.Sequential's .parameter method is useful. With this, the model keeps track of where parameters and present, so that gradients can be calculated and they can be updated).\n",
        "\n",
        "The method is called `.backward` because traditionally, the process of calculating gradients is called a **backward pass**. Its nothing but an implementation of the chain rule for derivative calculations. "
      ]
    },
    {
      "cell_type": "code",
      "metadata": {
        "id": "Hwe1cwvHir9w"
      },
      "source": [
        "# BACKWARD PASS\n",
        "loss.backward()"
      ],
      "execution_count": 35,
      "outputs": []
    },
    {
      "cell_type": "markdown",
      "metadata": {
        "id": "HKj7qx1hKjsz"
      },
      "source": [
        "So, just to understand the state of the model at this point - We haven't trained the Neural Net at all right now. So let us see how the model is performing on the dataset right now, and we will compare it with the performance after we train the model.\n",
        "\n",
        "So for that, we define an accuracy function, which basically checks how many predictions are the same as the target value (ground truth value).\n",
        "\n",
        "The neural Network has 2 neurons at the output layer, corresponding to the two classes (pears and cauliflowers). Whichever neuron has the highest value, is the prediction for the given input. `torch.argmax` basically returns the index of the neuron with gives the highest value."
      ]
    },
    {
      "cell_type": "code",
      "metadata": {
        "id": "jCB6GRvZdvbo"
      },
      "source": [
        "def accuracy(pred,targ): return (torch.argmax(pred,dim=1)==targ).float().mean() #understand this line of code. Search on google for the functionality of a term, if you dont understand"
      ],
      "execution_count": 36,
      "outputs": []
    },
    {
      "cell_type": "code",
      "metadata": {
        "id": "l3KwgmyGi9mq",
        "colab": {
          "base_uri": "https://localhost:8080/"
        },
        "outputId": "6f2b1b41-7f4c-4bbd-b996-9575e2dad921"
      },
      "source": [
        "accuracy(pred,yb)"
      ],
      "execution_count": 37,
      "outputs": [
        {
          "output_type": "execute_result",
          "data": {
            "text/plain": [
              "tensor(0.4219)"
            ]
          },
          "metadata": {
            "tags": []
          },
          "execution_count": 37
        }
      ]
    },
    {
      "cell_type": "markdown",
      "metadata": {
        "id": "GMpEY1EPMWPp"
      },
      "source": [
        "Now, if we update the parameters once, using the `optimizer.step` method of the `optimizer` class, let us see how the accuracy increases."
      ]
    },
    {
      "cell_type": "code",
      "metadata": {
        "id": "PJ4_WBOBjAeL"
      },
      "source": [
        "optimizer.step()\n",
        "optimizer.zero_grad()"
      ],
      "execution_count": 38,
      "outputs": []
    },
    {
      "cell_type": "code",
      "metadata": {
        "id": "IjH21ayxjBpz",
        "colab": {
          "base_uri": "https://localhost:8080/"
        },
        "outputId": "c3ce05b1-94b9-4745-e3b5-fd622513bbb0"
      },
      "source": [
        "accuracy(my_model(xb),yb)"
      ],
      "execution_count": 39,
      "outputs": [
        {
          "output_type": "execute_result",
          "data": {
            "text/plain": [
              "tensor(0.6094)"
            ]
          },
          "metadata": {
            "tags": []
          },
          "execution_count": 39
        }
      ]
    },
    {
      "cell_type": "markdown",
      "metadata": {
        "id": "8_nSEvsDMgXs"
      },
      "source": [
        "You can see that the accuracy has increased!"
      ]
    },
    {
      "cell_type": "markdown",
      "metadata": {
        "id": "Qb5u7vDJMn_i"
      },
      "source": [
        "What is `optimizer.zero_grad()`? We mentioned this in the earlier sessions too, when we were discussing gradient descent, but we didnt describe it back then. Let us understand it now.\n",
        "\n",
        "The idea is simple. By default, PyTorch *accumulates* (or keeps adding up ) gradients if you keep calculating gradients. This is not a bad thing, infact, its quite helpful when you have very small batch sizes, and you wish to accumulate gradients of multiple batches, (more the data used for parameter update, the better generalisation occurs in the final output). At the end, you have to manually *clear* the gradients, so that fresh gradients can be calculated. `.zero_grad` does exactly that. It replaces the gradients with a zero value. So the next time `.backward` is called, gradients are added to 0, which basically means, that fresh gradients are calculated. \n",
        "\n",
        "This is it. You've built your own Neural Network!"
      ]
    },
    {
      "cell_type": "markdown",
      "metadata": {
        "id": "VD3epk8OPKAB"
      },
      "source": [
        "## Refactoring the entire code to a convenient class\n",
        "\n",
        "The above code is quite scattered and clunky. We will refactor the code to make the entire Neural Network more understandable and easy to work with. \n",
        "\n",
        "Now is a good time to understand what `__init__` does. [Here](https://www.youtube.com/watch?v=ZDa-Z5JzLYM) is a great video by Cory Schafer on YouTube that explains this.  Actually, Cory Schafer has one of the best tutorials on object oriented programming in Python. So go check it out if you're interested!"
      ]
    },
    {
      "cell_type": "code",
      "metadata": {
        "id": "5P3F4qwWjko7"
      },
      "source": [
        "class NeuralNetwork():\n",
        "    def __init__(self,train_dl,valid_dl,model,loss_fn=nn.CrossEntropyLoss(),optimizer=None):\n",
        "        f\"valid_dl can be None. In that case, the model will be evaluated on the training set only\"\n",
        "\n",
        "        self.train_dl = train_dl\n",
        "        self.valid_dl = valid_dl\n",
        "        self.model = model\n",
        "        self.loss_fn=loss_fn\n",
        "        self.optimizer = torch.optim.SGD(self.model.parameters(),lr=0.1) if not optimizer else optimizer\n",
        "        \n",
        "    def train(self,epochs=1,lr=None,loss_fn=None):\n",
        "        self.train_loss,self.valid_loss=[],[]\n",
        "        if lr: self.opt.defaults['lr']=learning_rate\n",
        "        if loss_fn: self.loss_fn=loss_fn\n",
        "\n",
        "        for epoch in range(epochs):\n",
        "            # self.model=self.model.train()\n",
        "            for x,y in train_dl:                     \n",
        "                loss=self.loss_fn(self.model(x),y)\n",
        "                loss.backward()\n",
        "                self.optimizer.step()\n",
        "                self.optimizer.zero_grad()\n",
        "                self.train_loss.append(loss)\n",
        "\n",
        "            if self.valid_dl: print(f'epoch {epoch+1}:validation accuracy - {self.get_validation_accuracy()}')\n",
        "            else: print(print(f'epoch {epoch+1}: training accuracy - {self.get_validation_accuracy(validation=False)}'))\n",
        "\n",
        "    def get_validation_accuracy(self,validation=True):\n",
        "        dl=self.valid_dl if validation else self.train_dl\n",
        "        with torch.no_grad(): acc=[accuracy(self.model(x),y) for x,y in dl]\n",
        "        return torch.Tensor(acc).mean().float()"
      ],
      "execution_count": 40,
      "outputs": []
    },
    {
      "cell_type": "code",
      "metadata": {
        "id": "2S6XHVc4orZY"
      },
      "source": [
        "my_model = model(x_train.shape[-1],50,2) # reinitializing the model\n",
        "optimizer=torch.optim.Adam(my_model.parameters(),lr=0.0001)\n",
        "my_network = NeuralNetwork(train_dl,valid_dl,my_model,loss_fn=loss_fn,optimizer=optimizer)"
      ],
      "execution_count": 41,
      "outputs": []
    },
    {
      "cell_type": "code",
      "metadata": {
        "id": "dB95dZfrv3aA",
        "colab": {
          "base_uri": "https://localhost:8080/"
        },
        "outputId": "a998215f-e253-4777-81d7-c1a3bdebd1ee"
      },
      "source": [
        "my_network.get_validation_accuracy() # checking the model performance before training, for comparison"
      ],
      "execution_count": 42,
      "outputs": [
        {
          "output_type": "execute_result",
          "data": {
            "text/plain": [
              "tensor(0.4143)"
            ]
          },
          "metadata": {
            "tags": []
          },
          "execution_count": 42
        }
      ]
    },
    {
      "cell_type": "code",
      "metadata": {
        "id": "jAqr0XRPuRP0",
        "colab": {
          "base_uri": "https://localhost:8080/"
        },
        "outputId": "61bb87a2-63bd-4bb0-92ec-16ca966acb80"
      },
      "source": [
        "my_network.train(1)"
      ],
      "execution_count": 43,
      "outputs": [
        {
          "output_type": "stream",
          "text": [
            "epoch 1:validation accuracy - 0.8155691623687744\n"
          ],
          "name": "stdout"
        }
      ]
    },
    {
      "cell_type": "markdown",
      "metadata": {
        "id": "ZvwFxNCBQljS"
      },
      "source": [
        "You can see that with just one epoch, the model has improved significantly.\n",
        "\n",
        "Try writing the above class from scratch, without looking at it. You'll be surprised by how much you learn about python and Neural Nets with just this one class definition. It should take you about 3-4 hours to write it. Peeking at the original function once in a while is okay, but your aim should be to understand everything, and being able to write it from scratch."
      ]
    },
    {
      "cell_type": "markdown",
      "metadata": {
        "id": "Pqz4tyhxRbSU"
      },
      "source": [
        "## Implementing nn.Sequential from scatch\n",
        "\n",
        "We've implemented a model using nn.Sequential from scratch. But lets see what goes on under the hood. Let's actually look at the source code of the nn.Sequential function.\n",
        "\n",
        "In Jupyter notebooks, you can look up the source code of any function using the `??` sign. \n",
        "\n",
        "So let us first go to the source code of the model function which we defined above."
      ]
    },
    {
      "cell_type": "code",
      "metadata": {
        "id": "jkmej6_HLsHl"
      },
      "source": [
        "??model"
      ],
      "execution_count": 44,
      "outputs": []
    },
    {
      "cell_type": "markdown",
      "metadata": {
        "id": "m5X2gaKsR95o"
      },
      "source": [
        "As expected, it would show us the definition of the model, as defined above. We used nn.Sequential within the `model` function.\n",
        "\n",
        "So next, let us look up the source code of the nn.Sequential class."
      ]
    },
    {
      "cell_type": "code",
      "metadata": {
        "id": "bOr_dwiMLv-R"
      },
      "source": [
        "??nn.Sequential"
      ],
      "execution_count": 45,
      "outputs": []
    },
    {
      "cell_type": "markdown",
      "metadata": {
        "id": "BsFNzRDLL5Do"
      },
      "source": [
        "First of all, notice that nn.Sequential *inherits* from nn.Module. \n",
        "\n",
        "`nn.Module` is the base class for all functions in the `nn` (torch.nn). It contains basic information about how nn functions should behave. The `__call__` for all functions is implemented in nn.Module .\n",
        "\n",
        "```\n",
        "class Sequential(Module):\n",
        "```"
      ]
    },
    {
      "cell_type": "code",
      "metadata": {
        "id": "K7m2OLuhTl1k"
      },
      "source": [
        "??nn.Module.__call__"
      ],
      "execution_count": 46,
      "outputs": []
    },
    {
      "cell_type": "markdown",
      "metadata": {
        "id": "vyNU_xyjTuVt"
      },
      "source": [
        "There's a lot of technical code over there, but look for this main line of code.\n",
        "\n",
        "```\n",
        "result = self.forward(*input, **kwargs)\n",
        "```\n",
        "\n",
        "So, behind the scenes, nn functions call a function called `forward`. This is nothing but the function corresponding to the forward pass. Now you know why you can do a forward pass by simply calling the object like a function, with input as the argument to the function.\n",
        "\n",
        "This forward function is all you need to define for any nn function. Even nn.Linear, nn.ReLU, nn.Signmoid define only a forward function, and the rest is done by the `__call__` method. \n",
        "\n",
        "Next, lets take a look at the `forward` function of the nn.Sequential function"
      ]
    },
    {
      "cell_type": "code",
      "metadata": {
        "id": "DCScjHTOURXG"
      },
      "source": [
        "??nn.Sequential.forward"
      ],
      "execution_count": 47,
      "outputs": []
    },
    {
      "cell_type": "markdown",
      "metadata": {
        "id": "K-ysfOtcUzR2"
      },
      "source": [
        "You would see this.\n",
        "\n",
        "```\n",
        "def forward(self, input):\n",
        "        for module in self:\n",
        "            input = module(input)\n",
        "        return input\n",
        "```\n",
        "\n",
        "what is a module? A module is the basic unit in nn.Sequential function. In our case, nn.Linear, nn.ReLU, nn.Sigmoid, etc are the basic units. Let us run this ourself to understand this better"
      ]
    },
    {
      "cell_type": "code",
      "metadata": {
        "id": "sUzpPJ3bL8H6",
        "colab": {
          "base_uri": "https://localhost:8080/"
        },
        "outputId": "66759368-fced-480f-c437-9e4436cc32a0"
      },
      "source": [
        "#my_model is a nn.Sequential object\n",
        "for module in my_model: print(module)"
      ],
      "execution_count": 48,
      "outputs": [
        {
          "output_type": "stream",
          "text": [
            "Linear(in_features=30000, out_features=50, bias=True)\n",
            "ReLU()\n",
            "Linear(in_features=50, out_features=2, bias=True)\n",
            "Sigmoid()\n"
          ],
          "name": "stdout"
        }
      ]
    },
    {
      "cell_type": "markdown",
      "metadata": {
        "id": "rUrf7Y75VQOJ"
      },
      "source": [
        "As you can see, module is nothing but the different building layers of our model. \n",
        "So what nn.Sequential.forward is doing, is that it iterates through each layer, and passes the output from the previous layer to the next. \n",
        "\n",
        "Now that we know how it works, let a model using this behaviour from scratch!"
      ]
    },
    {
      "cell_type": "code",
      "metadata": {
        "id": "sVG0jEdAMDrj"
      },
      "source": [
        "class model(nn.Module):\n",
        "    def __init__(self,layers):\n",
        "        super().__init__()\n",
        "        self.layers=layers\n",
        "        for k,v in enumerate(self.layers): self.add_module(f\"layer {k}\",v) #nn.Sequential automatically added each layer as a module. We didnt have to do that. \n",
        "                                                                           #But now we have to do it ourselves. nn.Module has a function called add_module that can add any layer as a module of the class."
      ],
      "execution_count": 49,
      "outputs": []
    },
    {
      "cell_type": "markdown",
      "metadata": {
        "id": "n-Hiugi1WG9p"
      },
      "source": [
        "Now all we need to do is, define a forward function in this model class. But before that, lets see, if the model behaves properly"
      ]
    },
    {
      "cell_type": "code",
      "metadata": {
        "id": "PbBu7ChyOZ4A"
      },
      "source": [
        "in_features=x_train.shape[-1]\n",
        "hidden_features=50\n",
        "out_features=2\n",
        "\n",
        "layers=[nn.Linear(in_features,hidden_features), nn.ReLU(), nn.Linear(hidden_features,out_features),nn.Sigmoid()]\n",
        "my_model=model(layers)"
      ],
      "execution_count": 50,
      "outputs": []
    },
    {
      "cell_type": "code",
      "metadata": {
        "id": "4jtikuQTP2wX",
        "colab": {
          "base_uri": "https://localhost:8080/"
        },
        "outputId": "3a8c19fb-961e-4753-feca-8b7c57df1ebe"
      },
      "source": [
        "my_model"
      ],
      "execution_count": 51,
      "outputs": [
        {
          "output_type": "execute_result",
          "data": {
            "text/plain": [
              "model(\n",
              "  (layer 0): Linear(in_features=30000, out_features=50, bias=True)\n",
              "  (layer 1): ReLU()\n",
              "  (layer 2): Linear(in_features=50, out_features=2, bias=True)\n",
              "  (layer 3): Sigmoid()\n",
              ")"
            ]
          },
          "metadata": {
            "tags": []
          },
          "execution_count": 51
        }
      ]
    },
    {
      "cell_type": "markdown",
      "metadata": {
        "id": "EnkqjOJYWQLF"
      },
      "source": [
        "Yes, it does. You can see, that all the building blocks have been added as modules. Now we can create a forward function. \n",
        "\n",
        "Let us actually verify that this model class will use the `forward` function when called"
      ]
    },
    {
      "cell_type": "code",
      "metadata": {
        "id": "APKg5P55SH7y"
      },
      "source": [
        "# this will show an error at this point because forward is not implemented\n",
        "# my_model(x_train)    #Uncomment to run"
      ],
      "execution_count": 52,
      "outputs": []
    },
    {
      "cell_type": "markdown",
      "metadata": {
        "id": "TYFST--4WqoE"
      },
      "source": [
        "You can see that the error occurs at the line `result = self.forward(*input, **kwargs)`. Meaning, all we need to do is, define a forward function, and nn.Module will take care of the rest.\n"
      ]
    },
    {
      "cell_type": "code",
      "metadata": {
        "id": "4zrkn5RWTLND"
      },
      "source": [
        "class model(nn.Module):\n",
        "    def __init__(self,layers):\n",
        "        super().__init__()\n",
        "        self.layers=layers\n",
        "        for k,v in enumerate(self.layers): self.add_module(f\"layer {k}\",v)\n",
        "    \n",
        "    def forward(self,x):\n",
        "        for layer in self.layers: x=layer(x)\n",
        "        return x"
      ],
      "execution_count": 53,
      "outputs": []
    },
    {
      "cell_type": "code",
      "metadata": {
        "id": "sr_0JiBgTd1i",
        "colab": {
          "base_uri": "https://localhost:8080/"
        },
        "outputId": "2df2067d-fb89-4908-fe11-04e11f6e007d"
      },
      "source": [
        "my_model=model(layers)\n",
        "pred=my_model(x_train)\n",
        "pred.shape"
      ],
      "execution_count": 54,
      "outputs": [
        {
          "output_type": "execute_result",
          "data": {
            "text/plain": [
              "torch.Size([1194, 2])"
            ]
          },
          "metadata": {
            "tags": []
          },
          "execution_count": 54
        }
      ]
    },
    {
      "cell_type": "markdown",
      "metadata": {
        "id": "Mkt4zUqbW4hR"
      },
      "source": [
        "Yes, the model prediction is working correctly now!"
      ]
    },
    {
      "cell_type": "markdown",
      "metadata": {
        "id": "fsBFN9cAXDa1"
      },
      "source": [
        "## Review\n",
        "\n",
        "That's it for this session. In the next session, we'll look at more advanced concepts in Neural Networks, and following that, we'll dive into specific applications in Deep Learning, like Computer Vision, NLP and so on. \n",
        "\n",
        "In this session, we learnt how to build our own Neural Networks from scratch. We dived deep into PyTorch's elegant API and even learnt a lot new stuff in python. \n",
        "\n",
        "You are not expected to learn all this stuff in one go. There were too many concepts involved in this session, so its okay to take some time to understand all this stuff. Go through the whole notebook again if you need to, and make sure you understand everything well. \n",
        "\n",
        "We built Neural Networks the practical way - no math involved. Thats because libraries that exist today make sure we don't have to involve ourselves in unnecessary bookish mathematics. Infact, we saw how PyTorch provides us with functionalities to build our own Neural Networks in just one line of code - `nn.Sequential(...)`. Yes, we went much deeper than that. The sole reason behind that was to show you how things work at the foundational level of code. \n",
        "\n",
        "This is important when you want to modify the functionality of a code. If you simply don't know how nn.Sequential works, you cannot make it work in any other way than the default way. However, once you know how things work at the grassroot level,  you can make your code work in whatever way you want!"
      ]
    },
    {
      "cell_type": "markdown",
      "metadata": {
        "id": "kcQOq3gPtneB"
      },
      "source": [
        "## Exercise (Evaluative)\n",
        "\n",
        "Your task is to define the nn.Linear, nn.Sigmoid and nn.ReLU from scratch. You only have to implement the `forward` function in each of these classes. Once you do that, build a nn.Sequential object using not nn.Linear, etc, but the functions you define below. Run the Pear vs Cauliflower Classifier and make sure you get the same results.\n",
        "\n",
        "You can use any python or pytorch inbuilt function if needed, but you cannot directly copy paste the code from the repective forward definitions of nn.Linear, etc."
      ]
    },
    {
      "cell_type": "code",
      "metadata": {
        "id": "l9intqdUeGiB"
      },
      "source": [
        "import math"
      ],
      "execution_count": 55,
      "outputs": []
    },
    {
      "cell_type": "code",
      "metadata": {
        "id": "bh8l-bHVbgG_"
      },
      "source": [
        "class linear(nn.Module):\n",
        "    def __init__(self, in_features, out_features):\n",
        "        super().__init__()\n",
        "        self.in_features = in_features\n",
        "        self.out_features = out_features\n",
        "        self.weight = nn.Parameter(torch.Tensor(out_features, in_features))\n",
        "        self.bias = nn.Parameter(torch.Tensor(out_features))\n",
        "        self.reset_parameters() #used to kaiming initialize parameters\n",
        "    \n",
        "    def reset_parameters(self): #implementation of the kaiming initialization. IGNORE THIS\n",
        "        nn.init.kaiming_uniform_(self.weight, a=math.sqrt(5))\n",
        "        fan_in, _ = nn.init._calculate_fan_in_and_fan_out(self.weight)\n",
        "        bound = 1 / math.sqrt(fan_in)\n",
        "        nn.init.uniform_(self.bias, -bound, bound)\n",
        "\n",
        "    def forward(self,x):\n",
        "        return torch.matmul(x, torch.t(self.weight))+self.bias"
      ],
      "execution_count": 56,
      "outputs": []
    },
    {
      "cell_type": "code",
      "metadata": {
        "id": "mhqGvBzEt5As"
      },
      "source": [
        "class relu(nn.Module):\n",
        "    def __init__(self):\n",
        "        super().__init__()\n",
        "        \n",
        "    def forward(self,x):\n",
        "        return x.clamp(min=0)"
      ],
      "execution_count": 57,
      "outputs": []
    },
    {
      "cell_type": "code",
      "metadata": {
        "id": "3LGyA9BRbF5J"
      },
      "source": [
        "class sigmoid(nn.Module):\n",
        "    def __init__(self):\n",
        "        super().__init__()\n",
        "    \n",
        "    def forward(self,x):\n",
        "        return torch.sigmoid(x)"
      ],
      "execution_count": 58,
      "outputs": []
    },
    {
      "cell_type": "code",
      "metadata": {
        "id": "muaKXJ8XdcYr"
      },
      "source": [
        "in_features=x_train.shape[-1]\n",
        "hidden_features=50\n",
        "out_features=2\n",
        "\n",
        "layers=[linear(in_features,hidden_features), relu(), linear(hidden_features,out_features),sigmoid()]\n",
        "my_model=nn.Sequential(*layers)"
      ],
      "execution_count": 59,
      "outputs": []
    },
    {
      "cell_type": "code",
      "metadata": {
        "id": "tv5XbdXcdlyO",
        "colab": {
          "base_uri": "https://localhost:8080/"
        },
        "outputId": "a773dca8-388c-48f6-bd3c-f0d625fcd91b"
      },
      "source": [
        "my_model"
      ],
      "execution_count": 60,
      "outputs": [
        {
          "output_type": "execute_result",
          "data": {
            "text/plain": [
              "Sequential(\n",
              "  (0): linear()\n",
              "  (1): relu()\n",
              "  (2): linear()\n",
              "  (3): sigmoid()\n",
              ")"
            ]
          },
          "metadata": {
            "tags": []
          },
          "execution_count": 60
        }
      ]
    },
    {
      "cell_type": "code",
      "metadata": {
        "id": "oxVUJxknevQR"
      },
      "source": [
        "optimizer=torch.optim.Adam(my_model.parameters(),lr=0.0001)"
      ],
      "execution_count": 61,
      "outputs": []
    },
    {
      "cell_type": "code",
      "metadata": {
        "id": "fS44bg-seO4s"
      },
      "source": [
        "mynet=NeuralNetwork(train_dl,valid_dl,my_model,optimizer=optimizer)"
      ],
      "execution_count": 62,
      "outputs": []
    },
    {
      "cell_type": "code",
      "metadata": {
        "id": "Hee1ebIze9Wx",
        "colab": {
          "base_uri": "https://localhost:8080/"
        },
        "outputId": "eef45bd2-b4da-44b7-f42d-73dbe1c10c57"
      },
      "source": [
        "mynet.get_validation_accuracy() #checking accuracy before the training cycle"
      ],
      "execution_count": 63,
      "outputs": [
        {
          "output_type": "execute_result",
          "data": {
            "text/plain": [
              "tensor(0.4177)"
            ]
          },
          "metadata": {
            "tags": []
          },
          "execution_count": 63
        }
      ]
    },
    {
      "cell_type": "code",
      "metadata": {
        "id": "6nzw79kLe1sF",
        "colab": {
          "base_uri": "https://localhost:8080/"
        },
        "outputId": "2a7d8902-0adc-4dea-cc24-918df4a2bd1b"
      },
      "source": [
        "mynet.train()"
      ],
      "execution_count": 64,
      "outputs": [
        {
          "output_type": "stream",
          "text": [
            "epoch 1:validation accuracy - 0.8314732313156128\n"
          ],
          "name": "stdout"
        }
      ]
    },
    {
      "cell_type": "code",
      "metadata": {
        "id": "i1mYsdtte4N4"
      },
      "source": [
        ""
      ],
      "execution_count": 64,
      "outputs": []
    }
  ]
}