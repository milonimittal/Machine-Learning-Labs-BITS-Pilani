{
  "nbformat": 4,
  "nbformat_minor": 0,
  "metadata": {
    "colab": {
      "name": "2017A3PS0243P Lab-07.ipynb",
      "provenance": [],
      "collapsed_sections": []
    },
    "kernelspec": {
      "name": "python3",
      "display_name": "Python 3"
    }
  },
  "cells": [
    {
      "cell_type": "markdown",
      "metadata": {
        "id": "ztvulwLA0sJB"
      },
      "source": [
        "# 07 Decision Trees and Random Forests"
      ]
    },
    {
      "cell_type": "markdown",
      "metadata": {
        "id": "V7dzC5Mz6NVQ"
      },
      "source": [
        "Welcome to the 2nd half of this course, and the 7th practical session in Machine Learning. This session is on Decision Trees and Random Forests. \r\n",
        "\r\n",
        "Till now we've learnt about classical Machine Learning techniques. Now we're going to shift towards the *modern era* of Machine Learning, that lead to the present state of Artificial Intelligence. The state of Artificial Intelligence has become quite sophisticated.\r\n",
        "\r\n",
        "At present, methods like Deep Learning and Reinforcement Learning are state of the art, and will remain so in the near future. These methods have only emerged recently.\r\n",
        "\r\n",
        "In early 2000s, *Random Forests* was introduced, and it started becoming a popular method for Regression and Classification in Machine Learning. Part of the reason for its popularity was because of its ability to handle complexity well, and the other part of its popularity was its simplicity and intuitiveness.\r\n",
        "\r\n",
        "Infact, even after the emergence of sophisticated methods like Deep Learning, Random Forests are still very significant. Deep Learning can solve a lot of complex problems, but is not very effective in many domains. For example, Deep Learning does not perform really well wherever traditional multi-layer perceptron type networks are used (it has reached to good levels of performance, buts its not sophisticated yet). For example, tabular data prediction is solved using traditional types of Neural Networks, and they do not perform very well as of now. But, Random Forests perform very well in the case of tabular data. Random Forests are infact more popular and effective than Neural Networks presently. (Though in 2019, some research showed that good feature engineering can help Neural Networks perform better, but still, Random Forests still outperform Neural Networks). Having said that, it is an important and really interesting topic to learn. We've tried to solve many problems using tabular data, so today we'll be learning of the State of the Art (for real) modeling technique in Machine Learning to predict on tabular data.\r\n",
        "\r\n",
        "Random Forests are an extension of *Decision Trees*. So in this session, we'll first learn about Decision Trees, and then about Random Forests. "
      ]
    },
    {
      "cell_type": "markdown",
      "metadata": {
        "id": "6CMHI88nNJDs"
      },
      "source": [
        "## Decision Trees\r\n",
        "Decision Trees are a very intuitive way to process information. They are not specific to Machine Learning, and actually come from psychology. Decision Trees were initially used to create logic models. Lets understand the beauty of Decision Trees with an example. \r\n",
        "\r\n",
        "<figure><center>\r\n",
        "<img src='https://drive.google.com/uc?id=1pv7em1Ewu_90NllqHGdE-ww4pcmdrkss' width='60%'>\r\n",
        "</figure>\r\n",
        "\r\n",
        "[Figure Credits](https://medium.com/machine-learning-for-grandma/decision-tree-e6ab1037df16)\r\n",
        "\r\n",
        "When one applies for a loan, the bank needs takes into consideration many factors. And there can be many \"chains\" of queries(or questions, or  that can determine the final outcome (whether or not a loan should be given out to the applicant). For example, the above figure shows the following chain of decisions to be made while considering a loan application. \r\n",
        "\r\n",
        "1. Do they have a credit history? Meaning, have they taken a loan before?\r\n",
        "\r\n",
        "2. If yes, do they have a pledge? (Meaning an asset that is on another loan or mortgage). If no, then it doesn't matter whether they have a pledge or not. The important question now is, how much debt they have. If its less than some amount, then its a yes for the loan. If the amount is greater than a value, then its a no. \r\n",
        "\r\n",
        "and so on...\r\n",
        "\r\n",
        "You can think of many examples in real life where you think through such a structured chain of thought. \r\n",
        "\r\n",
        "Decision Trees come with an idea of features ranked by importance. For example, in the above example, whether or not an applicant has a pledged asset is not necessarily a deciding factor, but whether or not a person has a credit history is!\r\n",
        "\r\n",
        "So, how do Decision Trees work?\r\n"
      ]
    },
    {
      "cell_type": "markdown",
      "metadata": {
        "id": "1VE21D_FYLBa"
      },
      "source": [
        "Decision Trees ask a series of binary questions (yes/no questions) to arrive to a conclusion. That is the entire model! Now once you have this model, you can simply traverse through the tree to find the final answer. \r\n",
        "\r\n",
        "A decision Tree starts with one question, that splits into a yes, and a no. Each one of those too split into further yes and no's. Each question is called a *node*.\r\n",
        "\r\n",
        "The first question that is asked (or the first node. In this case, the question about whether or not an applicant has a credit history) is the most important question. Its called the *root* of the tree. The root *branches out* into *children nodes*. Each child further branches out, until we reach the final node in any branch. This node is called the *leaf* node.\r\n",
        "\r\n",
        "How do we decide which feature is more important and which node is less important? And how do we decide the correct sequence of decisions that need to be taken? We'll briefly describe the method. \r\n",
        "\r\n",
        "Before that, let us pick an interesting problem. "
      ]
    },
    {
      "cell_type": "markdown",
      "metadata": {
        "id": "aEWDY02pgoxj"
      },
      "source": [
        "### Case Study: Tic Tac Toe \r\n",
        "\r\n",
        "<figure><center>\r\n",
        "<img src='https://drive.google.com/uc?id=11R5WhfpfjNG0fs0fxg_gAd3N4cBMi_vt' width='15%'>\r\n",
        "</figure>\r\n",
        "\r\n",
        "You must have played a game of tic-tac-toe. Two players mark either a X or an O on a grid of 3x3 cells. If anyone manages to mark a complete row, column or diagonal, they win the game. We can visually look at the board and understand the meaning of a row, cell or column. But how would you hardcode the logic to a tic tac toe game app that you can find on the internet?\r\n",
        "\r\n",
        "One of the ways is to build a tree, that goes as follows.\r\n",
        "1. Mark all the cells as 1 through 9.\r\n",
        "2. If a person marks cell, does the adjacent cell have the same mark?\r\n",
        "3. If yes, then is does the same mark exist in the next cell _in the same direction_? \r\n",
        "4. If yes, the player wins the game.\r\n",
        "\r\n",
        "[This](https://www.kaggle.com/aungpyaeap/tictactoe-endgame-dataset-uci) dataset contains all the possible configurations of the tic-tac-toe grid that result in one of the players winning the game. Each cell has three possible values - X, O or blank (b). Configurations that lead player 'X' to win are labeled as positive, and the ones that lead player 'O' to win, are labeled as negative. \r\n",
        "\r\n",
        "Our job is to build a classifier that can take in a board configuration and come to a conclusion about which player won the game. \r\n",
        "\r\n",
        "Let us download this dataset. Since we are downloading this dataset from *Kaggle*, we need to first upload the kaggle.json file, that you may have downloaded earlier. "
      ]
    },
    {
      "cell_type": "code",
      "metadata": {
        "id": "Osoo0vUGp_lq",
        "colab": {
          "resources": {
            "http://localhost:8080/nbextensions/google.colab/files.js": {
              "data": "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",
              "ok": true,
              "headers": [
                [
                  "content-type",
                  "application/javascript"
                ]
              ],
              "status": 200,
              "status_text": ""
            }
          },
          "base_uri": "https://localhost:8080/",
          "height": 91
        },
        "outputId": "48689954-290c-4daf-b110-43e1a4ca4a85"
      },
      "source": [
        "%cd \r\n",
        "from google.colab import files\r\n",
        "uploaded = files.upload()\r\n",
        "!mkdir -p ~/.kaggle/ && mv kaggle.json ~/.kaggle/ && chmod 600 ~/.kaggle/kaggle.json\r\n"
      ],
      "execution_count": null,
      "outputs": [
        {
          "output_type": "stream",
          "text": [
            "/root\n"
          ],
          "name": "stdout"
        },
        {
          "output_type": "display_data",
          "data": {
            "text/html": [
              "\n",
              "     <input type=\"file\" id=\"files-2073b863-4f50-4c77-ba9c-3662787c1448\" name=\"files[]\" multiple disabled\n",
              "        style=\"border:none\" />\n",
              "     <output id=\"result-2073b863-4f50-4c77-ba9c-3662787c1448\">\n",
              "      Upload widget is only available when the cell has been executed in the\n",
              "      current browser session. Please rerun this cell to enable.\n",
              "      </output>\n",
              "      <script src=\"/nbextensions/google.colab/files.js\"></script> "
            ],
            "text/plain": [
              "<IPython.core.display.HTML object>"
            ]
          },
          "metadata": {
            "tags": []
          }
        },
        {
          "output_type": "stream",
          "text": [
            "Saving kaggle.json to kaggle.json\n"
          ],
          "name": "stdout"
        }
      ]
    },
    {
      "cell_type": "code",
      "metadata": {
        "id": "0Pw7RvvUTWEx",
        "colab": {
          "base_uri": "https://localhost:8080/"
        },
        "outputId": "d9513078-67a5-4ed8-8150-d2f2ee432054"
      },
      "source": [
        "!kaggle datasets download -d aungpyaeap/tictactoe-endgame-dataset-uci\r\n",
        "!mkdir -p tictactoe && unzip tictactoe-endgame-dataset-uci.zip -d tictactoe\r\n",
        "%cd tictactoe\r\n",
        "!ls"
      ],
      "execution_count": null,
      "outputs": [
        {
          "output_type": "stream",
          "text": [
            "Downloading tictactoe-endgame-dataset-uci.zip to /root\n",
            "\r  0% 0.00/3.43k [00:00<?, ?B/s]\n",
            "\r100% 3.43k/3.43k [00:00<00:00, 3.29MB/s]\n",
            "Archive:  tictactoe-endgame-dataset-uci.zip\n",
            "  inflating: tictactoe/tic-tac-toe-endgame.csv  \n",
            "/root/tictactoe\n",
            "tic-tac-toe-endgame.csv\n"
          ],
          "name": "stdout"
        }
      ]
    },
    {
      "cell_type": "markdown",
      "metadata": {
        "id": "ctGnRiPukZOV"
      },
      "source": [
        "We have a csv file containing data. So we'll use the pandas library to read and process this library. "
      ]
    },
    {
      "cell_type": "code",
      "metadata": {
        "id": "z9cZOHduUc8X",
        "colab": {
          "base_uri": "https://localhost:8080/",
          "height": 200
        },
        "outputId": "8f94adb7-c2e0-42d3-f210-95e79e4afd0f"
      },
      "source": [
        "import pandas as pd\r\n",
        "df=pd.read_csv('tic-tac-toe-endgame.csv')\r\n",
        "df.head()"
      ],
      "execution_count": null,
      "outputs": [
        {
          "output_type": "execute_result",
          "data": {
            "text/html": [
              "<div>\n",
              "<style scoped>\n",
              "    .dataframe tbody tr th:only-of-type {\n",
              "        vertical-align: middle;\n",
              "    }\n",
              "\n",
              "    .dataframe tbody tr th {\n",
              "        vertical-align: top;\n",
              "    }\n",
              "\n",
              "    .dataframe thead th {\n",
              "        text-align: right;\n",
              "    }\n",
              "</style>\n",
              "<table border=\"1\" class=\"dataframe\">\n",
              "  <thead>\n",
              "    <tr style=\"text-align: right;\">\n",
              "      <th></th>\n",
              "      <th>V1</th>\n",
              "      <th>V2</th>\n",
              "      <th>V3</th>\n",
              "      <th>V4</th>\n",
              "      <th>V5</th>\n",
              "      <th>V6</th>\n",
              "      <th>V7</th>\n",
              "      <th>V8</th>\n",
              "      <th>V9</th>\n",
              "      <th>V10</th>\n",
              "    </tr>\n",
              "  </thead>\n",
              "  <tbody>\n",
              "    <tr>\n",
              "      <th>0</th>\n",
              "      <td>x</td>\n",
              "      <td>x</td>\n",
              "      <td>x</td>\n",
              "      <td>x</td>\n",
              "      <td>o</td>\n",
              "      <td>o</td>\n",
              "      <td>x</td>\n",
              "      <td>o</td>\n",
              "      <td>o</td>\n",
              "      <td>positive</td>\n",
              "    </tr>\n",
              "    <tr>\n",
              "      <th>1</th>\n",
              "      <td>x</td>\n",
              "      <td>x</td>\n",
              "      <td>x</td>\n",
              "      <td>x</td>\n",
              "      <td>o</td>\n",
              "      <td>o</td>\n",
              "      <td>o</td>\n",
              "      <td>x</td>\n",
              "      <td>o</td>\n",
              "      <td>positive</td>\n",
              "    </tr>\n",
              "    <tr>\n",
              "      <th>2</th>\n",
              "      <td>x</td>\n",
              "      <td>x</td>\n",
              "      <td>x</td>\n",
              "      <td>x</td>\n",
              "      <td>o</td>\n",
              "      <td>o</td>\n",
              "      <td>o</td>\n",
              "      <td>o</td>\n",
              "      <td>x</td>\n",
              "      <td>positive</td>\n",
              "    </tr>\n",
              "    <tr>\n",
              "      <th>3</th>\n",
              "      <td>x</td>\n",
              "      <td>x</td>\n",
              "      <td>x</td>\n",
              "      <td>x</td>\n",
              "      <td>o</td>\n",
              "      <td>o</td>\n",
              "      <td>o</td>\n",
              "      <td>b</td>\n",
              "      <td>b</td>\n",
              "      <td>positive</td>\n",
              "    </tr>\n",
              "    <tr>\n",
              "      <th>4</th>\n",
              "      <td>x</td>\n",
              "      <td>x</td>\n",
              "      <td>x</td>\n",
              "      <td>x</td>\n",
              "      <td>o</td>\n",
              "      <td>o</td>\n",
              "      <td>b</td>\n",
              "      <td>o</td>\n",
              "      <td>b</td>\n",
              "      <td>positive</td>\n",
              "    </tr>\n",
              "  </tbody>\n",
              "</table>\n",
              "</div>"
            ],
            "text/plain": [
              "  V1 V2 V3 V4 V5 V6 V7 V8 V9       V10\n",
              "0  x  x  x  x  o  o  x  o  o  positive\n",
              "1  x  x  x  x  o  o  o  x  o  positive\n",
              "2  x  x  x  x  o  o  o  o  x  positive\n",
              "3  x  x  x  x  o  o  o  b  b  positive\n",
              "4  x  x  x  x  o  o  b  o  b  positive"
            ]
          },
          "metadata": {
            "tags": []
          },
          "execution_count": 3
        }
      ]
    },
    {
      "cell_type": "markdown",
      "metadata": {
        "id": "5pds-GcgkTsI"
      },
      "source": [
        "If the data is not intuitive to you, let us visualize the first row in a way that we are more used to seeing. "
      ]
    },
    {
      "cell_type": "code",
      "metadata": {
        "id": "UIcLbiZKmsjM"
      },
      "source": [
        "import numpy as np"
      ],
      "execution_count": null,
      "outputs": []
    },
    {
      "cell_type": "code",
      "metadata": {
        "id": "adLzNgjdkpf4",
        "colab": {
          "base_uri": "https://localhost:8080/",
          "height": 157
        },
        "outputId": "a331b44c-590c-4fa9-a996-883e930c55aa"
      },
      "source": [
        "config_=df.iloc[0]\r\n",
        "config=config_[:-1]\r\n",
        "config=[o if o!='b' else '' for o in config]\r\n",
        "print(f\"winner: player {'X' if config_[-1]=='positive' else 'O'}\")\r\n",
        "pd.DataFrame(data=np.reshape(config,(3,3)))"
      ],
      "execution_count": null,
      "outputs": [
        {
          "output_type": "stream",
          "text": [
            "winner: player X\n"
          ],
          "name": "stdout"
        },
        {
          "output_type": "execute_result",
          "data": {
            "text/html": [
              "<div>\n",
              "<style scoped>\n",
              "    .dataframe tbody tr th:only-of-type {\n",
              "        vertical-align: middle;\n",
              "    }\n",
              "\n",
              "    .dataframe tbody tr th {\n",
              "        vertical-align: top;\n",
              "    }\n",
              "\n",
              "    .dataframe thead th {\n",
              "        text-align: right;\n",
              "    }\n",
              "</style>\n",
              "<table border=\"1\" class=\"dataframe\">\n",
              "  <thead>\n",
              "    <tr style=\"text-align: right;\">\n",
              "      <th></th>\n",
              "      <th>0</th>\n",
              "      <th>1</th>\n",
              "      <th>2</th>\n",
              "    </tr>\n",
              "  </thead>\n",
              "  <tbody>\n",
              "    <tr>\n",
              "      <th>0</th>\n",
              "      <td>x</td>\n",
              "      <td>x</td>\n",
              "      <td>x</td>\n",
              "    </tr>\n",
              "    <tr>\n",
              "      <th>1</th>\n",
              "      <td>x</td>\n",
              "      <td>o</td>\n",
              "      <td>o</td>\n",
              "    </tr>\n",
              "    <tr>\n",
              "      <th>2</th>\n",
              "      <td>x</td>\n",
              "      <td>o</td>\n",
              "      <td>o</td>\n",
              "    </tr>\n",
              "  </tbody>\n",
              "</table>\n",
              "</div>"
            ],
            "text/plain": [
              "   0  1  2\n",
              "0  x  x  x\n",
              "1  x  o  o\n",
              "2  x  o  o"
            ]
          },
          "metadata": {
            "tags": []
          },
          "execution_count": 5
        }
      ]
    },
    {
      "cell_type": "markdown",
      "metadata": {
        "id": "C1jjvlbVqIy_"
      },
      "source": [
        "How many rows does this dataset contain in total?"
      ]
    },
    {
      "cell_type": "code",
      "metadata": {
        "id": "W5M-gtiNqP7o",
        "colab": {
          "base_uri": "https://localhost:8080/"
        },
        "outputId": "6e4b6f2c-980f-4978-e05b-8882e10d4c15"
      },
      "source": [
        "len(df)"
      ],
      "execution_count": null,
      "outputs": [
        {
          "output_type": "execute_result",
          "data": {
            "text/plain": [
              "958"
            ]
          },
          "metadata": {
            "tags": []
          },
          "execution_count": 6
        }
      ]
    },
    {
      "cell_type": "markdown",
      "metadata": {
        "id": "5G6IgfRCqRSL"
      },
      "source": [
        "And are there any rows which contain incomplete information in this dataset?"
      ]
    },
    {
      "cell_type": "code",
      "metadata": {
        "id": "HZujbSv-WNO4",
        "colab": {
          "base_uri": "https://localhost:8080/"
        },
        "outputId": "c08e7f7a-aad5-4b20-9d09-019b5c4ae579"
      },
      "source": [
        "df.isna().any().any()"
      ],
      "execution_count": null,
      "outputs": [
        {
          "output_type": "execute_result",
          "data": {
            "text/plain": [
              "False"
            ]
          },
          "metadata": {
            "tags": []
          },
          "execution_count": 7
        }
      ]
    },
    {
      "cell_type": "markdown",
      "metadata": {
        "id": "ilIfgBf5qarX"
      },
      "source": [
        "No! There are no empty features in this dataset. We've now setup our data. The next step is to feed the data into the model. But before that, we need to *preprocess* the data. Meaning, we have to first convert each feature into numbers, because computers cannot understand anything other than numbers. So we need to categorize all variables into numbers.\r\n",
        "\r\n",
        "We defined a function in Session 4 (On Bayesian Learning) called `categorify`, which categorizes each categorical variable, and also adds a method to the dataframe, called the `dictionary`, which keeps track of which categorical numbers refer to which original category. We'll categorify our dataframe below. "
      ]
    },
    {
      "cell_type": "code",
      "metadata": {
        "id": "Ec7Ve0BNX7mQ",
        "colab": {
          "base_uri": "https://localhost:8080/"
        },
        "outputId": "fb918023-dce2-4980-9c20-d2f65f10fb6b"
      },
      "source": [
        "def categorify(df):\r\n",
        "    df.dictionary={}\r\n",
        "    for col in df: \r\n",
        "        numerical_categories = {k:i for i,k in enumerate(sorted(df[col].unique()))}\r\n",
        "        df[col]=[numerical_categories[i] for i in df[col]]\r\n",
        "        df.dictionary[col]=numerical_categories\r\n",
        "categorify(df)"
      ],
      "execution_count": null,
      "outputs": [
        {
          "output_type": "stream",
          "text": [
            "/usr/local/lib/python3.7/dist-packages/ipykernel_launcher.py:2: UserWarning: Pandas doesn't allow columns to be created via a new attribute name - see https://pandas.pydata.org/pandas-docs/stable/indexing.html#attribute-access\n",
            "  \n"
          ],
          "name": "stderr"
        }
      ]
    },
    {
      "cell_type": "code",
      "metadata": {
        "id": "H6kRnoXfuoHQ",
        "colab": {
          "base_uri": "https://localhost:8080/",
          "height": 200
        },
        "outputId": "3b8903ff-a5c7-4a99-dcf8-cb27b546eaa6"
      },
      "source": [
        "df.head()"
      ],
      "execution_count": null,
      "outputs": [
        {
          "output_type": "execute_result",
          "data": {
            "text/html": [
              "<div>\n",
              "<style scoped>\n",
              "    .dataframe tbody tr th:only-of-type {\n",
              "        vertical-align: middle;\n",
              "    }\n",
              "\n",
              "    .dataframe tbody tr th {\n",
              "        vertical-align: top;\n",
              "    }\n",
              "\n",
              "    .dataframe thead th {\n",
              "        text-align: right;\n",
              "    }\n",
              "</style>\n",
              "<table border=\"1\" class=\"dataframe\">\n",
              "  <thead>\n",
              "    <tr style=\"text-align: right;\">\n",
              "      <th></th>\n",
              "      <th>V1</th>\n",
              "      <th>V2</th>\n",
              "      <th>V3</th>\n",
              "      <th>V4</th>\n",
              "      <th>V5</th>\n",
              "      <th>V6</th>\n",
              "      <th>V7</th>\n",
              "      <th>V8</th>\n",
              "      <th>V9</th>\n",
              "      <th>V10</th>\n",
              "    </tr>\n",
              "  </thead>\n",
              "  <tbody>\n",
              "    <tr>\n",
              "      <th>0</th>\n",
              "      <td>2</td>\n",
              "      <td>2</td>\n",
              "      <td>2</td>\n",
              "      <td>2</td>\n",
              "      <td>1</td>\n",
              "      <td>1</td>\n",
              "      <td>2</td>\n",
              "      <td>1</td>\n",
              "      <td>1</td>\n",
              "      <td>1</td>\n",
              "    </tr>\n",
              "    <tr>\n",
              "      <th>1</th>\n",
              "      <td>2</td>\n",
              "      <td>2</td>\n",
              "      <td>2</td>\n",
              "      <td>2</td>\n",
              "      <td>1</td>\n",
              "      <td>1</td>\n",
              "      <td>1</td>\n",
              "      <td>2</td>\n",
              "      <td>1</td>\n",
              "      <td>1</td>\n",
              "    </tr>\n",
              "    <tr>\n",
              "      <th>2</th>\n",
              "      <td>2</td>\n",
              "      <td>2</td>\n",
              "      <td>2</td>\n",
              "      <td>2</td>\n",
              "      <td>1</td>\n",
              "      <td>1</td>\n",
              "      <td>1</td>\n",
              "      <td>1</td>\n",
              "      <td>2</td>\n",
              "      <td>1</td>\n",
              "    </tr>\n",
              "    <tr>\n",
              "      <th>3</th>\n",
              "      <td>2</td>\n",
              "      <td>2</td>\n",
              "      <td>2</td>\n",
              "      <td>2</td>\n",
              "      <td>1</td>\n",
              "      <td>1</td>\n",
              "      <td>1</td>\n",
              "      <td>0</td>\n",
              "      <td>0</td>\n",
              "      <td>1</td>\n",
              "    </tr>\n",
              "    <tr>\n",
              "      <th>4</th>\n",
              "      <td>2</td>\n",
              "      <td>2</td>\n",
              "      <td>2</td>\n",
              "      <td>2</td>\n",
              "      <td>1</td>\n",
              "      <td>1</td>\n",
              "      <td>0</td>\n",
              "      <td>1</td>\n",
              "      <td>0</td>\n",
              "      <td>1</td>\n",
              "    </tr>\n",
              "  </tbody>\n",
              "</table>\n",
              "</div>"
            ],
            "text/plain": [
              "   V1  V2  V3  V4  V5  V6  V7  V8  V9  V10\n",
              "0   2   2   2   2   1   1   2   1   1    1\n",
              "1   2   2   2   2   1   1   1   2   1    1\n",
              "2   2   2   2   2   1   1   1   1   2    1\n",
              "3   2   2   2   2   1   1   1   0   0    1\n",
              "4   2   2   2   2   1   1   0   1   0    1"
            ]
          },
          "metadata": {
            "tags": []
          },
          "execution_count": 9
        }
      ]
    },
    {
      "cell_type": "markdown",
      "metadata": {
        "id": "x4PU5qjjumI8"
      },
      "source": [
        "You can see that all feaures in the dataframe are now numbers. Lets see which features refer to which"
      ]
    },
    {
      "cell_type": "code",
      "metadata": {
        "id": "SdISalRIuyn_",
        "colab": {
          "base_uri": "https://localhost:8080/"
        },
        "outputId": "d56da2ef-2da7-48ba-e157-72bb8b095cbe"
      },
      "source": [
        "df.dictionary"
      ],
      "execution_count": null,
      "outputs": [
        {
          "output_type": "execute_result",
          "data": {
            "text/plain": [
              "{'V1': {'b': 0, 'o': 1, 'x': 2},\n",
              " 'V10': {'negative': 0, 'positive': 1},\n",
              " 'V2': {'b': 0, 'o': 1, 'x': 2},\n",
              " 'V3': {'b': 0, 'o': 1, 'x': 2},\n",
              " 'V4': {'b': 0, 'o': 1, 'x': 2},\n",
              " 'V5': {'b': 0, 'o': 1, 'x': 2},\n",
              " 'V6': {'b': 0, 'o': 1, 'x': 2},\n",
              " 'V7': {'b': 0, 'o': 1, 'x': 2},\n",
              " 'V8': {'b': 0, 'o': 1, 'x': 2},\n",
              " 'V9': {'b': 0, 'o': 1, 'x': 2}}"
            ]
          },
          "metadata": {
            "tags": []
          },
          "execution_count": 10
        }
      ]
    },
    {
      "cell_type": "markdown",
      "metadata": {
        "id": "DWwGPq0wujnj"
      },
      "source": [
        "Finally, lets split this data into the input and output , or `x` and `y`. "
      ]
    },
    {
      "cell_type": "code",
      "metadata": {
        "id": "11Ds5S8cUxfX",
        "colab": {
          "base_uri": "https://localhost:8080/"
        },
        "outputId": "3d1a842a-e77f-4e62-af81-51e662f10859"
      },
      "source": [
        "x=df.drop(['V10'],axis=1)\r\n",
        "y=df['V10']\r\n",
        "len(x),len(y)"
      ],
      "execution_count": null,
      "outputs": [
        {
          "output_type": "execute_result",
          "data": {
            "text/plain": [
              "(958, 958)"
            ]
          },
          "metadata": {
            "tags": []
          },
          "execution_count": 11
        }
      ]
    },
    {
      "cell_type": "markdown",
      "metadata": {
        "id": "bGHzBvsDvHfi"
      },
      "source": [
        "Finally lets build the model that we will use to build the classifier. \r\n",
        "\r\n",
        "We won't build a Decision Tree from scratch, but use an already existing implementation that is provided by the scikitlearn library. "
      ]
    },
    {
      "cell_type": "code",
      "metadata": {
        "id": "nuxS2zgPf_4Y"
      },
      "source": [
        "from sklearn.tree import DecisionTreeClassifier"
      ],
      "execution_count": null,
      "outputs": []
    },
    {
      "cell_type": "markdown",
      "metadata": {
        "id": "ry-l0XakwzmV"
      },
      "source": [
        "According to the [documentation](https://scikit-learn.org/stable/modules/generated/sklearn.tree.DecisionTreeClassifier.html) here's the syntax to build a classifier. "
      ]
    },
    {
      "cell_type": "code",
      "metadata": {
        "id": "0-6v1AcKgcno"
      },
      "source": [
        "model = DecisionTreeClassifier(criterion = 'entropy', max_leaf_nodes=5)"
      ],
      "execution_count": null,
      "outputs": []
    },
    {
      "cell_type": "markdown",
      "metadata": {
        "id": "97lu0_WAwcop"
      },
      "source": [
        "To understand how this model works, Let's explain how Decision Trees are built!\r\n",
        "\r\n",
        "As we mentioned before, Decision Trees are built upon the principle of ranking different features. For example, in the bank loan example, whether a person had a credit history is the most important feature.\r\n",
        "\r\n",
        "Here are the steps to build a Decision Tree.\r\n",
        "\r\n",
        "1. Go through each feature of the dataset one by one.\r\n",
        "2. For each possible value in the feature column, classify all relevant datapoints using that value as the threshold.\r\n",
        "3. Whichever threshold (among all values of all features) gives the best result becomes the criteria of classification at that node, and the corresponding feature becomes the node of the tree.\r\n",
        "4. Continue till all datapoints till you reach a satisfactory result, or reach a maximum number of iterations. \r\n",
        "\r\n",
        "For example, while going through all features, when the model comes across the feature \"credit history\", and looks for all possible values. The possible values are 0 or 1. So the decision is, whether the value of credit history is 0 or 1. The ones for which credit history is 1, are classified as \"positive\" (for whether a loan should be given or not) \"negative for the other\". So there are, say, `a` number of datapoints in the branch where credit history is 1, and `b` datapoints in 0. All of the 'a' datapoints are *predicted* to be positive by this model at this point. And all of \r\n",
        "'b' datapoints are predicted as negative. Note, a+b is the total number of datapoints. And the reason that \"credit history\" was chosen as the node among all features, because it could classify the points the best among all features. Not perfect, but still the closest. \r\n",
        "\r\n",
        "Now, For the a datapoints, we go through all features again (excluding credit history, because we've already covered it for this particular branch.) and choose the feature that further gives the best accuracy while doing a split. And we do this until we reach a point where either all the datapoints have been correctly classified, or we've reached a limit on the *depth* or levels of the tree.  \r\n"
      ]
    },
    {
      "cell_type": "markdown",
      "metadata": {
        "id": "UdFoVSQQ2DZD"
      },
      "source": [
        "In the syntax of the line `model = DecisionTreeClassifier(criterion = 'entropy', max_leaf_nodes=5)`\r\n",
        "\r\n",
        "`criterion` is the metric which helps decide which feature is better than the other. Its similar to a loss function we've seen before. We've studied about Entropy Loss in Logistic Regression. Here we will use the 'entropy' criterion.\r\n",
        "\r\n",
        "We will also put a limit to the maximum number of leaf nodes there can be, so that the model does not try to fit every single datapoint correctly. That would be similar to *overfitting*. We don't want that. So we'll stop the model to go all the way to the end. "
      ]
    },
    {
      "cell_type": "markdown",
      "metadata": {
        "id": "iWn5YJi12tgv"
      },
      "source": [
        "Let us now train (aka fit) the model. According to the documentation, here's the syntax to do so."
      ]
    },
    {
      "cell_type": "code",
      "metadata": {
        "id": "hUaAdEzYwcEe"
      },
      "source": [
        "model.fit(x, y);"
      ],
      "execution_count": null,
      "outputs": []
    },
    {
      "cell_type": "markdown",
      "metadata": {
        "id": "ayFFbDZC24P6"
      },
      "source": [
        "And we have built a Decision Tree. We would like to visualize this tree. We will do so by using the tree module in sklearn. Matplotlib is used to display the figure in Colab."
      ]
    },
    {
      "cell_type": "code",
      "metadata": {
        "id": "YaFM9Q8GmFRL"
      },
      "source": [
        "import matplotlib.pyplot as plt\r\n",
        "from sklearn import tree"
      ],
      "execution_count": null,
      "outputs": []
    },
    {
      "cell_type": "code",
      "metadata": {
        "id": "ynS9GxiKh8MH",
        "colab": {
          "base_uri": "https://localhost:8080/",
          "height": 466
        },
        "outputId": "408e3129-78a7-4920-8357-4c2cefa804d8"
      },
      "source": [
        "plt.figure(figsize=(6,8))\r\n",
        "tree.plot_tree(model,filled=True)\r\n",
        "plt.show()"
      ],
      "execution_count": null,
      "outputs": [
        {
          "output_type": "display_data",
          "data": {
            "image/png": "[encoded data removed]",
            "text/plain": [
              "<Figure size 432x576 with 1 Axes>"
            ]
          },
          "metadata": {
            "tags": [],
            "needs_background": "light"
          }
        }
      ]
    },
    {
      "cell_type": "markdown",
      "metadata": {
        "id": "vaoq9p5k3UxI"
      },
      "source": [
        "For each node, the branch on the left corresponds to the 'Yes' case, and the right corresponds to 'No'. At each node, entropy of the decision tree is mentioned (basically, how well the tree is able to predict on the data , the lower - the better). You can also see that as we go down a tree, the entropy reduces. That is exactly what we want. \r\n",
        "\r\n",
        "`Samples` tells us about the number of datapoints that are classified as positive or negative by the node above it. You can verify that at any node, the number of datapoints on its left and right child nodes (ie the datapoints classified as positive or negative) add up to the number of datapoints in that node. "
      ]
    },
    {
      "cell_type": "markdown",
      "metadata": {
        "id": "nHOg4mDC4mxz"
      },
      "source": [
        "And finally, we would like to see how good the model performs on the dataset. We will do this by finding the accuracy of predictions. We haven't used a validation/testing dataset for this problem. We'll simply examine the trend of model performance on the training dataset itself. "
      ]
    },
    {
      "cell_type": "code",
      "metadata": {
        "id": "RLQN_tjklVGi",
        "colab": {
          "base_uri": "https://localhost:8080/"
        },
        "outputId": "ac179e75-bb22-40cd-cfed-abf40733ee7e"
      },
      "source": [
        "from sklearn.metrics import accuracy_score\r\n",
        "y_pred=model.predict(x)\r\n",
        "accuracy_score(y_pred,y)"
      ],
      "execution_count": null,
      "outputs": [
        {
          "output_type": "execute_result",
          "data": {
            "text/plain": [
              "0.7202505219206681"
            ]
          },
          "metadata": {
            "tags": []
          },
          "execution_count": 17
        }
      ]
    },
    {
      "cell_type": "markdown",
      "metadata": {
        "id": "b4O6GgBm40bh"
      },
      "source": [
        "Ideally if you put no condition on the depth of the tree, the model will keep splitting the data until every datapoint is correctly classified. But that probably won't work well on real world data, because of overfitting. But never the less, lets try it out. "
      ]
    },
    {
      "cell_type": "code",
      "metadata": {
        "id": "6so6vJI7t59t",
        "colab": {
          "base_uri": "https://localhost:8080/"
        },
        "outputId": "6a4e1793-2dad-4678-8611-b4ce18605452"
      },
      "source": [
        "model = DecisionTreeClassifier(criterion = 'entropy')\r\n",
        "model.fit(x, y);\r\n",
        "y_pred=model.predict(x)\r\n",
        "accuracy_score(y_pred,y)"
      ],
      "execution_count": null,
      "outputs": [
        {
          "output_type": "execute_result",
          "data": {
            "text/plain": [
              "1.0"
            ]
          },
          "metadata": {
            "tags": []
          },
          "execution_count": 18
        }
      ]
    },
    {
      "cell_type": "code",
      "metadata": {
        "id": "xBu29VMJueIT",
        "colab": {
          "base_uri": "https://localhost:8080/",
          "height": 466
        },
        "outputId": "14765b03-fbd6-4458-ef24-ac84003f0310"
      },
      "source": [
        "plt.figure(figsize=(6,8))\r\n",
        "tree.plot_tree(model,filled=True)\r\n",
        "plt.show()"
      ],
      "execution_count": null,
      "outputs": [
        {
          "output_type": "display_data",
          "data": {
            "image/png": "[encoded data removed]",
            "text/plain": [
              "<Figure size 432x576 with 1 Axes>"
            ]
          },
          "metadata": {
            "tags": [],
            "needs_background": "light"
          }
        }
      ]
    },
    {
      "cell_type": "markdown",
      "metadata": {
        "id": "FstPqVe26JOE"
      },
      "source": [
        "This is quite a deep and complex decision tree! So, if you slowly increase the number of `max_leaf_nodes` in the model, your accuracy will increase. Initially we set it as 5, now lets set it as 20"
      ]
    },
    {
      "cell_type": "code",
      "metadata": {
        "id": "kGY1aiGbsO7e"
      },
      "source": [
        "model = DecisionTreeClassifier(criterion = 'entropy', max_leaf_nodes=20)\r\n",
        "model.fit(x, y);"
      ],
      "execution_count": null,
      "outputs": []
    },
    {
      "cell_type": "code",
      "metadata": {
        "id": "aUCGNNG0t4cS",
        "colab": {
          "base_uri": "https://localhost:8080/"
        },
        "outputId": "1967687d-681a-433c-859b-d85a762e30f8"
      },
      "source": [
        "y_pred=model.predict(x)\r\n",
        "accuracy_score(y_pred,y)"
      ],
      "execution_count": null,
      "outputs": [
        {
          "output_type": "execute_result",
          "data": {
            "text/plain": [
              "0.8308977035490606"
            ]
          },
          "metadata": {
            "tags": []
          },
          "execution_count": 21
        }
      ]
    },
    {
      "cell_type": "code",
      "metadata": {
        "id": "AVTZbmp-66vm",
        "colab": {
          "base_uri": "https://localhost:8080/",
          "height": 466
        },
        "outputId": "680956d0-b290-4824-ca96-989b82cfe237"
      },
      "source": [
        "plt.figure(figsize=(8,8))\r\n",
        "tree.plot_tree(model,filled=True)\r\n",
        "plt.show()"
      ],
      "execution_count": null,
      "outputs": [
        {
          "output_type": "display_data",
          "data": {
            "image/png": "[encoded data removed]",
            "text/plain": [
              "<Figure size 576x576 with 1 Axes>"
            ]
          },
          "metadata": {
            "tags": [],
            "needs_background": "light"
          }
        }
      ]
    },
    {
      "cell_type": "markdown",
      "metadata": {
        "id": "A61WkhdU6Z-1"
      },
      "source": [
        "You can see that the accuracy has increased!\r\n",
        "\r\n",
        "So that is how Decision Trees are built in python!\r\n",
        "\r\n",
        "Now let us understand what Random Forests are..."
      ]
    },
    {
      "cell_type": "markdown",
      "metadata": {
        "id": "-B82XJR1utxM"
      },
      "source": [
        "## Random Forests\r\n",
        "\r\n",
        "In 1994, Leo Breiman, a recently retired UC Berkley professor of statistics introduced *Bagging*, which is a statistics technique used to improve the performance of models (It is actually used by almost all corporates in any Machine Learning application). The idea is to not rely on a single Machine Learning model to get predictions, because there might be errors in the model predictions. \r\n",
        "\r\n",
        "However, if you *aggregate* the results of multiple Machine Learning model (using a democracy rule), you are likely to get stronger predictions. For example, a particular model might predict an input wrongly, but it is quite less likely for 10 models to predict wrong on the same input.\r\n",
        "\r\n",
        "Breiman proposed to do this by building multiple models, each with a random subset of the data. Because of the randomness, each model is independent of the other. The final result of the model is the aggregate of the predictions of all models. For example, for calssification, this  aggregation may be done by a majority-voting method. \r\n",
        "\r\n",
        "In 2001, Breiman demonstrated this method for Decision Trees, and that came to be called *Random Forests*. \r\n",
        "\r\n",
        "(Forests because forests have trees, and Random because of the randomness in the bagging technique.)\r\n",
        "\r\n",
        "Sklearn provides us with a class that build a Random Forest Classifier for us. We will use this..\r\n"
      ]
    },
    {
      "cell_type": "code",
      "metadata": {
        "id": "UK2GqzrwwVxT"
      },
      "source": [
        "from sklearn.ensemble import RandomForestClassifier"
      ],
      "execution_count": null,
      "outputs": []
    },
    {
      "cell_type": "markdown",
      "metadata": {
        "id": "ooYVxS2S96Wf"
      },
      "source": [
        "We again set a limit on the maximum number of leaf nodes in any decision tree.\r\n",
        "\r\n",
        "`n_estimators` is the number of decision trees in a Random Forest. Its default value is 100, meaning a 100 DTs will be built, and the final result will be an aggregate of all these 100 decision trees. \r\n",
        "\r\n",
        "There's also an attribute called as `max_samples` in the RandomForest function, which tells the model, what fraction of the entier dataset must be chosen to build any  of the 100 decision trees. "
      ]
    },
    {
      "cell_type": "code",
      "metadata": {
        "id": "EkFA55j5unNs"
      },
      "source": [
        "model=RandomForestClassifier(criterion='entropy',max_leaf_nodes=5,n_estimators=100,max_samples=0.5)\r\n",
        "model.fit(x,y);"
      ],
      "execution_count": null,
      "outputs": []
    },
    {
      "cell_type": "code",
      "metadata": {
        "id": "kEJV0hZlv6sI",
        "colab": {
          "base_uri": "https://localhost:8080/"
        },
        "outputId": "c6aa0571-c72f-484b-bb3e-ee4d9ff18a82"
      },
      "source": [
        "y_pred=model.predict(x)\r\n",
        "accuracy_score(y_pred,y)"
      ],
      "execution_count": null,
      "outputs": [
        {
          "output_type": "execute_result",
          "data": {
            "text/plain": [
              "0.732776617954071"
            ]
          },
          "metadata": {
            "tags": []
          },
          "execution_count": 26
        }
      ]
    },
    {
      "cell_type": "markdown",
      "metadata": {
        "id": "IpMgRRUl-48y"
      },
      "source": [
        "You can see that the performance of a RandomForest for the same limit of `max_leaf_nodes` is better than its Decision Tree counterpart.\r\n",
        "\r\n",
        "Try playing around with the parameters of the model function and see the effect on the performance."
      ]
    },
    {
      "cell_type": "markdown",
      "metadata": {
        "id": "D0mSKL6A_Njh"
      },
      "source": [
        "# Excercise (Evaluative)\r\n",
        "\r\n",
        "Your task is to build both Decision Trees and Random Forests for another task. The task we will use in this question is the [Mushroom Classification](https://www.kaggle.com/uciml/mushroom-classification) Dataset, which gives information about the mushrooms appearance, habitat, etc. We need to identify which mushroom is poisenous, and which is edible (given in the `class` column of the dataframe)\r\n",
        "\r\n"
      ]
    },
    {
      "cell_type": "code",
      "metadata": {
        "id": "FeKdXtwww8h6",
        "colab": {
          "base_uri": "https://localhost:8080/"
        },
        "outputId": "d33ef2ba-dc1c-4b1d-de66-1fa73467f7d9"
      },
      "source": [
        "%cd\r\n",
        "!kaggle datasets download -d uciml/mushroom-classification\r\n",
        "!mkdir mushroom && unzip mushroom-classification.zip -d mushroom\r\n",
        "%cd mushroom\r\n",
        "!ls"
      ],
      "execution_count": 1,
      "outputs": [
        {
          "output_type": "stream",
          "text": [
            "/root\n",
            "mushroom-classification.zip: Skipping, found more recently modified local copy (use --force to force download)\n",
            "mkdir: cannot create directory ‘mushroom’: File exists\n",
            "/root/mushroom\n",
            "mushrooms.csv\n"
          ],
          "name": "stdout"
        }
      ]
    },
    {
      "cell_type": "code",
      "metadata": {
        "id": "i7QHOaN3srJy"
      },
      "source": [
        "import pandas as pd\r\n",
        "import numpy as np\r\n",
        "\r\n",
        "from sklearn.tree import DecisionTreeClassifier\r\n",
        "from sklearn.ensemble import RandomForestClassifier\r\n",
        "\r\n",
        "from sklearn.metrics import accuracy_score\r\n",
        "\r\n",
        "import matplotlib.pyplot as plt"
      ],
      "execution_count": 2,
      "outputs": []
    },
    {
      "cell_type": "code",
      "metadata": {
        "id": "LWp-NJbNDygU",
        "colab": {
          "base_uri": "https://localhost:8080/",
          "height": 482
        },
        "outputId": "bcc03ad7-9fee-4234-8e2d-f24292103cca"
      },
      "source": [
        "df=pd.read_csv('mushrooms.csv')\r\n",
        "df"
      ],
      "execution_count": 3,
      "outputs": [
        {
          "output_type": "execute_result",
          "data": {
            "text/html": [
              "<div>\n",
              "<style scoped>\n",
              "    .dataframe tbody tr th:only-of-type {\n",
              "        vertical-align: middle;\n",
              "    }\n",
              "\n",
              "    .dataframe tbody tr th {\n",
              "        vertical-align: top;\n",
              "    }\n",
              "\n",
              "    .dataframe thead th {\n",
              "        text-align: right;\n",
              "    }\n",
              "</style>\n",
              "<table border=\"1\" class=\"dataframe\">\n",
              "  <thead>\n",
              "    <tr style=\"text-align: right;\">\n",
              "      <th></th>\n",
              "      <th>class</th>\n",
              "      <th>cap-shape</th>\n",
              "      <th>cap-surface</th>\n",
              "      <th>cap-color</th>\n",
              "      <th>bruises</th>\n",
              "      <th>odor</th>\n",
              "      <th>gill-attachment</th>\n",
              "      <th>gill-spacing</th>\n",
              "      <th>gill-size</th>\n",
              "      <th>gill-color</th>\n",
              "      <th>stalk-shape</th>\n",
              "      <th>stalk-root</th>\n",
              "      <th>stalk-surface-above-ring</th>\n",
              "      <th>stalk-surface-below-ring</th>\n",
              "      <th>stalk-color-above-ring</th>\n",
              "      <th>stalk-color-below-ring</th>\n",
              "      <th>veil-type</th>\n",
              "      <th>veil-color</th>\n",
              "      <th>ring-number</th>\n",
              "      <th>ring-type</th>\n",
              "      <th>spore-print-color</th>\n",
              "      <th>population</th>\n",
              "      <th>habitat</th>\n",
              "    </tr>\n",
              "  </thead>\n",
              "  <tbody>\n",
              "    <tr>\n",
              "      <th>0</th>\n",
              "      <td>p</td>\n",
              "      <td>x</td>\n",
              "      <td>s</td>\n",
              "      <td>n</td>\n",
              "      <td>t</td>\n",
              "      <td>p</td>\n",
              "      <td>f</td>\n",
              "      <td>c</td>\n",
              "      <td>n</td>\n",
              "      <td>k</td>\n",
              "      <td>e</td>\n",
              "      <td>e</td>\n",
              "      <td>s</td>\n",
              "      <td>s</td>\n",
              "      <td>w</td>\n",
              "      <td>w</td>\n",
              "      <td>p</td>\n",
              "      <td>w</td>\n",
              "      <td>o</td>\n",
              "      <td>p</td>\n",
              "      <td>k</td>\n",
              "      <td>s</td>\n",
              "      <td>u</td>\n",
              "    </tr>\n",
              "    <tr>\n",
              "      <th>1</th>\n",
              "      <td>e</td>\n",
              "      <td>x</td>\n",
              "      <td>s</td>\n",
              "      <td>y</td>\n",
              "      <td>t</td>\n",
              "      <td>a</td>\n",
              "      <td>f</td>\n",
              "      <td>c</td>\n",
              "      <td>b</td>\n",
              "      <td>k</td>\n",
              "      <td>e</td>\n",
              "      <td>c</td>\n",
              "      <td>s</td>\n",
              "      <td>s</td>\n",
              "      <td>w</td>\n",
              "      <td>w</td>\n",
              "      <td>p</td>\n",
              "      <td>w</td>\n",
              "      <td>o</td>\n",
              "      <td>p</td>\n",
              "      <td>n</td>\n",
              "      <td>n</td>\n",
              "      <td>g</td>\n",
              "    </tr>\n",
              "    <tr>\n",
              "      <th>2</th>\n",
              "      <td>e</td>\n",
              "      <td>b</td>\n",
              "      <td>s</td>\n",
              "      <td>w</td>\n",
              "      <td>t</td>\n",
              "      <td>l</td>\n",
              "      <td>f</td>\n",
              "      <td>c</td>\n",
              "      <td>b</td>\n",
              "      <td>n</td>\n",
              "      <td>e</td>\n",
              "      <td>c</td>\n",
              "      <td>s</td>\n",
              "      <td>s</td>\n",
              "      <td>w</td>\n",
              "      <td>w</td>\n",
              "      <td>p</td>\n",
              "      <td>w</td>\n",
              "      <td>o</td>\n",
              "      <td>p</td>\n",
              "      <td>n</td>\n",
              "      <td>n</td>\n",
              "      <td>m</td>\n",
              "    </tr>\n",
              "    <tr>\n",
              "      <th>3</th>\n",
              "      <td>p</td>\n",
              "      <td>x</td>\n",
              "      <td>y</td>\n",
              "      <td>w</td>\n",
              "      <td>t</td>\n",
              "      <td>p</td>\n",
              "      <td>f</td>\n",
              "      <td>c</td>\n",
              "      <td>n</td>\n",
              "      <td>n</td>\n",
              "      <td>e</td>\n",
              "      <td>e</td>\n",
              "      <td>s</td>\n",
              "      <td>s</td>\n",
              "      <td>w</td>\n",
              "      <td>w</td>\n",
              "      <td>p</td>\n",
              "      <td>w</td>\n",
              "      <td>o</td>\n",
              "      <td>p</td>\n",
              "      <td>k</td>\n",
              "      <td>s</td>\n",
              "      <td>u</td>\n",
              "    </tr>\n",
              "    <tr>\n",
              "      <th>4</th>\n",
              "      <td>e</td>\n",
              "      <td>x</td>\n",
              "      <td>s</td>\n",
              "      <td>g</td>\n",
              "      <td>f</td>\n",
              "      <td>n</td>\n",
              "      <td>f</td>\n",
              "      <td>w</td>\n",
              "      <td>b</td>\n",
              "      <td>k</td>\n",
              "      <td>t</td>\n",
              "      <td>e</td>\n",
              "      <td>s</td>\n",
              "      <td>s</td>\n",
              "      <td>w</td>\n",
              "      <td>w</td>\n",
              "      <td>p</td>\n",
              "      <td>w</td>\n",
              "      <td>o</td>\n",
              "      <td>e</td>\n",
              "      <td>n</td>\n",
              "      <td>a</td>\n",
              "      <td>g</td>\n",
              "    </tr>\n",
              "    <tr>\n",
              "      <th>...</th>\n",
              "      <td>...</td>\n",
              "      <td>...</td>\n",
              "      <td>...</td>\n",
              "      <td>...</td>\n",
              "      <td>...</td>\n",
              "      <td>...</td>\n",
              "      <td>...</td>\n",
              "      <td>...</td>\n",
              "      <td>...</td>\n",
              "      <td>...</td>\n",
              "      <td>...</td>\n",
              "      <td>...</td>\n",
              "      <td>...</td>\n",
              "      <td>...</td>\n",
              "      <td>...</td>\n",
              "      <td>...</td>\n",
              "      <td>...</td>\n",
              "      <td>...</td>\n",
              "      <td>...</td>\n",
              "      <td>...</td>\n",
              "      <td>...</td>\n",
              "      <td>...</td>\n",
              "      <td>...</td>\n",
              "    </tr>\n",
              "    <tr>\n",
              "      <th>8119</th>\n",
              "      <td>e</td>\n",
              "      <td>k</td>\n",
              "      <td>s</td>\n",
              "      <td>n</td>\n",
              "      <td>f</td>\n",
              "      <td>n</td>\n",
              "      <td>a</td>\n",
              "      <td>c</td>\n",
              "      <td>b</td>\n",
              "      <td>y</td>\n",
              "      <td>e</td>\n",
              "      <td>?</td>\n",
              "      <td>s</td>\n",
              "      <td>s</td>\n",
              "      <td>o</td>\n",
              "      <td>o</td>\n",
              "      <td>p</td>\n",
              "      <td>o</td>\n",
              "      <td>o</td>\n",
              "      <td>p</td>\n",
              "      <td>b</td>\n",
              "      <td>c</td>\n",
              "      <td>l</td>\n",
              "    </tr>\n",
              "    <tr>\n",
              "      <th>8120</th>\n",
              "      <td>e</td>\n",
              "      <td>x</td>\n",
              "      <td>s</td>\n",
              "      <td>n</td>\n",
              "      <td>f</td>\n",
              "      <td>n</td>\n",
              "      <td>a</td>\n",
              "      <td>c</td>\n",
              "      <td>b</td>\n",
              "      <td>y</td>\n",
              "      <td>e</td>\n",
              "      <td>?</td>\n",
              "      <td>s</td>\n",
              "      <td>s</td>\n",
              "      <td>o</td>\n",
              "      <td>o</td>\n",
              "      <td>p</td>\n",
              "      <td>n</td>\n",
              "      <td>o</td>\n",
              "      <td>p</td>\n",
              "      <td>b</td>\n",
              "      <td>v</td>\n",
              "      <td>l</td>\n",
              "    </tr>\n",
              "    <tr>\n",
              "      <th>8121</th>\n",
              "      <td>e</td>\n",
              "      <td>f</td>\n",
              "      <td>s</td>\n",
              "      <td>n</td>\n",
              "      <td>f</td>\n",
              "      <td>n</td>\n",
              "      <td>a</td>\n",
              "      <td>c</td>\n",
              "      <td>b</td>\n",
              "      <td>n</td>\n",
              "      <td>e</td>\n",
              "      <td>?</td>\n",
              "      <td>s</td>\n",
              "      <td>s</td>\n",
              "      <td>o</td>\n",
              "      <td>o</td>\n",
              "      <td>p</td>\n",
              "      <td>o</td>\n",
              "      <td>o</td>\n",
              "      <td>p</td>\n",
              "      <td>b</td>\n",
              "      <td>c</td>\n",
              "      <td>l</td>\n",
              "    </tr>\n",
              "    <tr>\n",
              "      <th>8122</th>\n",
              "      <td>p</td>\n",
              "      <td>k</td>\n",
              "      <td>y</td>\n",
              "      <td>n</td>\n",
              "      <td>f</td>\n",
              "      <td>y</td>\n",
              "      <td>f</td>\n",
              "      <td>c</td>\n",
              "      <td>n</td>\n",
              "      <td>b</td>\n",
              "      <td>t</td>\n",
              "      <td>?</td>\n",
              "      <td>s</td>\n",
              "      <td>k</td>\n",
              "      <td>w</td>\n",
              "      <td>w</td>\n",
              "      <td>p</td>\n",
              "      <td>w</td>\n",
              "      <td>o</td>\n",
              "      <td>e</td>\n",
              "      <td>w</td>\n",
              "      <td>v</td>\n",
              "      <td>l</td>\n",
              "    </tr>\n",
              "    <tr>\n",
              "      <th>8123</th>\n",
              "      <td>e</td>\n",
              "      <td>x</td>\n",
              "      <td>s</td>\n",
              "      <td>n</td>\n",
              "      <td>f</td>\n",
              "      <td>n</td>\n",
              "      <td>a</td>\n",
              "      <td>c</td>\n",
              "      <td>b</td>\n",
              "      <td>y</td>\n",
              "      <td>e</td>\n",
              "      <td>?</td>\n",
              "      <td>s</td>\n",
              "      <td>s</td>\n",
              "      <td>o</td>\n",
              "      <td>o</td>\n",
              "      <td>p</td>\n",
              "      <td>o</td>\n",
              "      <td>o</td>\n",
              "      <td>p</td>\n",
              "      <td>o</td>\n",
              "      <td>c</td>\n",
              "      <td>l</td>\n",
              "    </tr>\n",
              "  </tbody>\n",
              "</table>\n",
              "<p>8124 rows × 23 columns</p>\n",
              "</div>"
            ],
            "text/plain": [
              "     class cap-shape cap-surface  ... spore-print-color population habitat\n",
              "0        p         x           s  ...                 k          s       u\n",
              "1        e         x           s  ...                 n          n       g\n",
              "2        e         b           s  ...                 n          n       m\n",
              "3        p         x           y  ...                 k          s       u\n",
              "4        e         x           s  ...                 n          a       g\n",
              "...    ...       ...         ...  ...               ...        ...     ...\n",
              "8119     e         k           s  ...                 b          c       l\n",
              "8120     e         x           s  ...                 b          v       l\n",
              "8121     e         f           s  ...                 b          c       l\n",
              "8122     p         k           y  ...                 w          v       l\n",
              "8123     e         x           s  ...                 o          c       l\n",
              "\n",
              "[8124 rows x 23 columns]"
            ]
          },
          "metadata": {
            "tags": []
          },
          "execution_count": 3
        }
      ]
    },
    {
      "cell_type": "markdown",
      "metadata": {
        "id": "Y9p57zq1FyXK"
      },
      "source": [
        "Some columns have `?`, which is equivalent to NaNs. We need to remove these blank values. "
      ]
    },
    {
      "cell_type": "code",
      "metadata": {
        "id": "VUbGuG78F5eo",
        "colab": {
          "base_uri": "https://localhost:8080/"
        },
        "outputId": "9722c160-d0f6-4554-e14e-847d450d7cb7"
      },
      "source": [
        "(df=='?').any()"
      ],
      "execution_count": 4,
      "outputs": [
        {
          "output_type": "execute_result",
          "data": {
            "text/plain": [
              "class                       False\n",
              "cap-shape                   False\n",
              "cap-surface                 False\n",
              "cap-color                   False\n",
              "bruises                     False\n",
              "odor                        False\n",
              "gill-attachment             False\n",
              "gill-spacing                False\n",
              "gill-size                   False\n",
              "gill-color                  False\n",
              "stalk-shape                 False\n",
              "stalk-root                   True\n",
              "stalk-surface-above-ring    False\n",
              "stalk-surface-below-ring    False\n",
              "stalk-color-above-ring      False\n",
              "stalk-color-below-ring      False\n",
              "veil-type                   False\n",
              "veil-color                  False\n",
              "ring-number                 False\n",
              "ring-type                   False\n",
              "spore-print-color           False\n",
              "population                  False\n",
              "habitat                     False\n",
              "dtype: bool"
            ]
          },
          "metadata": {
            "tags": []
          },
          "execution_count": 4
        }
      ]
    },
    {
      "cell_type": "markdown",
      "metadata": {
        "id": "2pe6AqdxF-G2"
      },
      "source": [
        "'stalk-root' contains such ?'s. So we'll drop the entire column for the sake of this problem"
      ]
    },
    {
      "cell_type": "code",
      "metadata": {
        "id": "M3ebWufRFF_T"
      },
      "source": [
        "df=df.drop('stalk-root',axis=1)"
      ],
      "execution_count": 5,
      "outputs": []
    },
    {
      "cell_type": "code",
      "metadata": {
        "colab": {
          "base_uri": "https://localhost:8080/"
        },
        "id": "NlJC-76BmfQA",
        "outputId": "4faa6e56-77a5-4fbf-d580-baee0b71f58c"
      },
      "source": [
        "def categorify(df):\r\n",
        "    df.dictionary={}\r\n",
        "    for col in df: \r\n",
        "        numerical_categories = {k:i for i,k in enumerate(sorted(df[col].unique()))}\r\n",
        "        df[col]=[numerical_categories[i] for i in df[col]]\r\n",
        "        df.dictionary[col]=numerical_categories\r\n",
        "categorify(df)"
      ],
      "execution_count": 6,
      "outputs": [
        {
          "output_type": "stream",
          "text": [
            "/usr/local/lib/python3.7/dist-packages/ipykernel_launcher.py:2: UserWarning: Pandas doesn't allow columns to be created via a new attribute name - see https://pandas.pydata.org/pandas-docs/stable/indexing.html#attribute-access\n",
            "  \n"
          ],
          "name": "stderr"
        }
      ]
    },
    {
      "cell_type": "code",
      "metadata": {
        "colab": {
          "base_uri": "https://localhost:8080/",
          "height": 271
        },
        "id": "ficogYHIm04I",
        "outputId": "7e9a6567-7537-43b4-99b0-46f34a1ddf55"
      },
      "source": [
        "df.head()"
      ],
      "execution_count": 7,
      "outputs": [
        {
          "output_type": "execute_result",
          "data": {
            "text/html": [
              "<div>\n",
              "<style scoped>\n",
              "    .dataframe tbody tr th:only-of-type {\n",
              "        vertical-align: middle;\n",
              "    }\n",
              "\n",
              "    .dataframe tbody tr th {\n",
              "        vertical-align: top;\n",
              "    }\n",
              "\n",
              "    .dataframe thead th {\n",
              "        text-align: right;\n",
              "    }\n",
              "</style>\n",
              "<table border=\"1\" class=\"dataframe\">\n",
              "  <thead>\n",
              "    <tr style=\"text-align: right;\">\n",
              "      <th></th>\n",
              "      <th>class</th>\n",
              "      <th>cap-shape</th>\n",
              "      <th>cap-surface</th>\n",
              "      <th>cap-color</th>\n",
              "      <th>bruises</th>\n",
              "      <th>odor</th>\n",
              "      <th>gill-attachment</th>\n",
              "      <th>gill-spacing</th>\n",
              "      <th>gill-size</th>\n",
              "      <th>gill-color</th>\n",
              "      <th>stalk-shape</th>\n",
              "      <th>stalk-surface-above-ring</th>\n",
              "      <th>stalk-surface-below-ring</th>\n",
              "      <th>stalk-color-above-ring</th>\n",
              "      <th>stalk-color-below-ring</th>\n",
              "      <th>veil-type</th>\n",
              "      <th>veil-color</th>\n",
              "      <th>ring-number</th>\n",
              "      <th>ring-type</th>\n",
              "      <th>spore-print-color</th>\n",
              "      <th>population</th>\n",
              "      <th>habitat</th>\n",
              "    </tr>\n",
              "  </thead>\n",
              "  <tbody>\n",
              "    <tr>\n",
              "      <th>0</th>\n",
              "      <td>1</td>\n",
              "      <td>5</td>\n",
              "      <td>2</td>\n",
              "      <td>4</td>\n",
              "      <td>1</td>\n",
              "      <td>6</td>\n",
              "      <td>1</td>\n",
              "      <td>0</td>\n",
              "      <td>1</td>\n",
              "      <td>4</td>\n",
              "      <td>0</td>\n",
              "      <td>2</td>\n",
              "      <td>2</td>\n",
              "      <td>7</td>\n",
              "      <td>7</td>\n",
              "      <td>0</td>\n",
              "      <td>2</td>\n",
              "      <td>1</td>\n",
              "      <td>4</td>\n",
              "      <td>2</td>\n",
              "      <td>3</td>\n",
              "      <td>5</td>\n",
              "    </tr>\n",
              "    <tr>\n",
              "      <th>1</th>\n",
              "      <td>0</td>\n",
              "      <td>5</td>\n",
              "      <td>2</td>\n",
              "      <td>9</td>\n",
              "      <td>1</td>\n",
              "      <td>0</td>\n",
              "      <td>1</td>\n",
              "      <td>0</td>\n",
              "      <td>0</td>\n",
              "      <td>4</td>\n",
              "      <td>0</td>\n",
              "      <td>2</td>\n",
              "      <td>2</td>\n",
              "      <td>7</td>\n",
              "      <td>7</td>\n",
              "      <td>0</td>\n",
              "      <td>2</td>\n",
              "      <td>1</td>\n",
              "      <td>4</td>\n",
              "      <td>3</td>\n",
              "      <td>2</td>\n",
              "      <td>1</td>\n",
              "    </tr>\n",
              "    <tr>\n",
              "      <th>2</th>\n",
              "      <td>0</td>\n",
              "      <td>0</td>\n",
              "      <td>2</td>\n",
              "      <td>8</td>\n",
              "      <td>1</td>\n",
              "      <td>3</td>\n",
              "      <td>1</td>\n",
              "      <td>0</td>\n",
              "      <td>0</td>\n",
              "      <td>5</td>\n",
              "      <td>0</td>\n",
              "      <td>2</td>\n",
              "      <td>2</td>\n",
              "      <td>7</td>\n",
              "      <td>7</td>\n",
              "      <td>0</td>\n",
              "      <td>2</td>\n",
              "      <td>1</td>\n",
              "      <td>4</td>\n",
              "      <td>3</td>\n",
              "      <td>2</td>\n",
              "      <td>3</td>\n",
              "    </tr>\n",
              "    <tr>\n",
              "      <th>3</th>\n",
              "      <td>1</td>\n",
              "      <td>5</td>\n",
              "      <td>3</td>\n",
              "      <td>8</td>\n",
              "      <td>1</td>\n",
              "      <td>6</td>\n",
              "      <td>1</td>\n",
              "      <td>0</td>\n",
              "      <td>1</td>\n",
              "      <td>5</td>\n",
              "      <td>0</td>\n",
              "      <td>2</td>\n",
              "      <td>2</td>\n",
              "      <td>7</td>\n",
              "      <td>7</td>\n",
              "      <td>0</td>\n",
              "      <td>2</td>\n",
              "      <td>1</td>\n",
              "      <td>4</td>\n",
              "      <td>2</td>\n",
              "      <td>3</td>\n",
              "      <td>5</td>\n",
              "    </tr>\n",
              "    <tr>\n",
              "      <th>4</th>\n",
              "      <td>0</td>\n",
              "      <td>5</td>\n",
              "      <td>2</td>\n",
              "      <td>3</td>\n",
              "      <td>0</td>\n",
              "      <td>5</td>\n",
              "      <td>1</td>\n",
              "      <td>1</td>\n",
              "      <td>0</td>\n",
              "      <td>4</td>\n",
              "      <td>1</td>\n",
              "      <td>2</td>\n",
              "      <td>2</td>\n",
              "      <td>7</td>\n",
              "      <td>7</td>\n",
              "      <td>0</td>\n",
              "      <td>2</td>\n",
              "      <td>1</td>\n",
              "      <td>0</td>\n",
              "      <td>3</td>\n",
              "      <td>0</td>\n",
              "      <td>1</td>\n",
              "    </tr>\n",
              "  </tbody>\n",
              "</table>\n",
              "</div>"
            ],
            "text/plain": [
              "   class  cap-shape  cap-surface  ...  spore-print-color  population  habitat\n",
              "0      1          5            2  ...                  2           3        5\n",
              "1      0          5            2  ...                  3           2        1\n",
              "2      0          0            2  ...                  3           2        3\n",
              "3      1          5            3  ...                  2           3        5\n",
              "4      0          5            2  ...                  3           0        1\n",
              "\n",
              "[5 rows x 22 columns]"
            ]
          },
          "metadata": {
            "tags": []
          },
          "execution_count": 7
        }
      ]
    },
    {
      "cell_type": "code",
      "metadata": {
        "colab": {
          "base_uri": "https://localhost:8080/"
        },
        "id": "qHpbTatDm2c1",
        "outputId": "4caf30f2-07fd-4051-b436-3170436b15cb"
      },
      "source": [
        "df.dictionary"
      ],
      "execution_count": 8,
      "outputs": [
        {
          "output_type": "execute_result",
          "data": {
            "text/plain": [
              "{'bruises': {'f': 0, 't': 1},\n",
              " 'cap-color': {'b': 0,\n",
              "  'c': 1,\n",
              "  'e': 2,\n",
              "  'g': 3,\n",
              "  'n': 4,\n",
              "  'p': 5,\n",
              "  'r': 6,\n",
              "  'u': 7,\n",
              "  'w': 8,\n",
              "  'y': 9},\n",
              " 'cap-shape': {'b': 0, 'c': 1, 'f': 2, 'k': 3, 's': 4, 'x': 5},\n",
              " 'cap-surface': {'f': 0, 'g': 1, 's': 2, 'y': 3},\n",
              " 'class': {'e': 0, 'p': 1},\n",
              " 'gill-attachment': {'a': 0, 'f': 1},\n",
              " 'gill-color': {'b': 0,\n",
              "  'e': 1,\n",
              "  'g': 2,\n",
              "  'h': 3,\n",
              "  'k': 4,\n",
              "  'n': 5,\n",
              "  'o': 6,\n",
              "  'p': 7,\n",
              "  'r': 8,\n",
              "  'u': 9,\n",
              "  'w': 10,\n",
              "  'y': 11},\n",
              " 'gill-size': {'b': 0, 'n': 1},\n",
              " 'gill-spacing': {'c': 0, 'w': 1},\n",
              " 'habitat': {'d': 0, 'g': 1, 'l': 2, 'm': 3, 'p': 4, 'u': 5, 'w': 6},\n",
              " 'odor': {'a': 0,\n",
              "  'c': 1,\n",
              "  'f': 2,\n",
              "  'l': 3,\n",
              "  'm': 4,\n",
              "  'n': 5,\n",
              "  'p': 6,\n",
              "  's': 7,\n",
              "  'y': 8},\n",
              " 'population': {'a': 0, 'c': 1, 'n': 2, 's': 3, 'v': 4, 'y': 5},\n",
              " 'ring-number': {'n': 0, 'o': 1, 't': 2},\n",
              " 'ring-type': {'e': 0, 'f': 1, 'l': 2, 'n': 3, 'p': 4},\n",
              " 'spore-print-color': {'b': 0,\n",
              "  'h': 1,\n",
              "  'k': 2,\n",
              "  'n': 3,\n",
              "  'o': 4,\n",
              "  'r': 5,\n",
              "  'u': 6,\n",
              "  'w': 7,\n",
              "  'y': 8},\n",
              " 'stalk-color-above-ring': {'b': 0,\n",
              "  'c': 1,\n",
              "  'e': 2,\n",
              "  'g': 3,\n",
              "  'n': 4,\n",
              "  'o': 5,\n",
              "  'p': 6,\n",
              "  'w': 7,\n",
              "  'y': 8},\n",
              " 'stalk-color-below-ring': {'b': 0,\n",
              "  'c': 1,\n",
              "  'e': 2,\n",
              "  'g': 3,\n",
              "  'n': 4,\n",
              "  'o': 5,\n",
              "  'p': 6,\n",
              "  'w': 7,\n",
              "  'y': 8},\n",
              " 'stalk-shape': {'e': 0, 't': 1},\n",
              " 'stalk-surface-above-ring': {'f': 0, 'k': 1, 's': 2, 'y': 3},\n",
              " 'stalk-surface-below-ring': {'f': 0, 'k': 1, 's': 2, 'y': 3},\n",
              " 'veil-color': {'n': 0, 'o': 1, 'w': 2, 'y': 3},\n",
              " 'veil-type': {'p': 0}}"
            ]
          },
          "metadata": {
            "tags": []
          },
          "execution_count": 8
        }
      ]
    },
    {
      "cell_type": "code",
      "metadata": {
        "colab": {
          "base_uri": "https://localhost:8080/"
        },
        "id": "hVMcCrGSm6zi",
        "outputId": "48756f2f-f165-4264-ec04-a4bc89850ea6"
      },
      "source": [
        "x=df.drop(['class'],axis=1)\r\n",
        "y=df['class']\r\n",
        "len(x),len(y)"
      ],
      "execution_count": 9,
      "outputs": [
        {
          "output_type": "execute_result",
          "data": {
            "text/plain": [
              "(8124, 8124)"
            ]
          },
          "metadata": {
            "tags": []
          },
          "execution_count": 9
        }
      ]
    },
    {
      "cell_type": "code",
      "metadata": {
        "id": "GQB-CxQ7snev"
      },
      "source": [
        "list_max_leaf_nodes=list(range(2,21))"
      ],
      "execution_count": 10,
      "outputs": []
    },
    {
      "cell_type": "code",
      "metadata": {
        "id": "qQzzD14fnQaH"
      },
      "source": [
        "list_decision_tree=[]\r\n",
        "for i in list_max_leaf_nodes:\r\n",
        "  model = DecisionTreeClassifier(criterion = 'entropy', max_leaf_nodes=i)\r\n",
        "  model.fit(x, y);\r\n",
        "  y_pred=model.predict(x)\r\n",
        "  list_decision_tree.append(accuracy_score(y_pred,y))"
      ],
      "execution_count": 11,
      "outputs": []
    },
    {
      "cell_type": "code",
      "metadata": {
        "id": "_KOYFRQBn7VM"
      },
      "source": [
        "list_random_forest=[]\r\n",
        "for i in list_max_leaf_nodes:\r\n",
        "  model=RandomForestClassifier(criterion='entropy',max_leaf_nodes=i,n_estimators=100,max_samples=0.5)\r\n",
        "  model.fit(x,y);\r\n",
        "  y_pred=model.predict(x)\r\n",
        "  list_random_forest.append(accuracy_score(y_pred,y))"
      ],
      "execution_count": 12,
      "outputs": []
    },
    {
      "cell_type": "code",
      "metadata": {
        "colab": {
          "base_uri": "https://localhost:8080/",
          "height": 297
        },
        "id": "TDGg3dmnowXc",
        "outputId": "addf30b4-8f64-4a28-ab21-46702c12c925"
      },
      "source": [
        "plt.plot(list_max_leaf_nodes, list_decision_tree, 'b') \r\n",
        "plt.plot(list_max_leaf_nodes, list_random_forest, 'g') \r\n",
        "plt.legend([\"Decision Tree\", \"Random Forest\"])\r\n",
        "plt.xlabel('Max Leaf Nodes') \r\n",
        "plt.ylabel('Accuracy')\r\n",
        "plt.show "
      ],
      "execution_count": 13,
      "outputs": [
        {
          "output_type": "execute_result",
          "data": {
            "text/plain": [
              "<function matplotlib.pyplot.show>"
            ]
          },
          "metadata": {
            "tags": []
          },
          "execution_count": 13
        },
        {
          "output_type": "display_data",
          "data": {
            "image/png": "[encoded data removed]",
            "text/plain": [
              "<Figure size 432x288 with 1 Axes>"
            ]
          },
          "metadata": {
            "tags": [],
            "needs_background": "light"
          }
        }
      ]
    },
    {
      "cell_type": "code",
      "metadata": {
        "id": "HcofnUBvqrUj"
      },
      "source": [
        "list_n_estimator=list(range(1,101))"
      ],
      "execution_count": 14,
      "outputs": []
    },
    {
      "cell_type": "code",
      "metadata": {
        "id": "Rrq3dYADq0Vp"
      },
      "source": [
        "list_random_forest1=[]\r\n",
        "for i in list_n_estimator:\r\n",
        "  model=RandomForestClassifier(criterion='entropy',max_leaf_nodes=5,n_estimators=i,max_samples=0.5)\r\n",
        "  model.fit(x,y);\r\n",
        "  y_pred=model.predict(x)\r\n",
        "  list_random_forest1.append(accuracy_score(y_pred,y))"
      ],
      "execution_count": 17,
      "outputs": []
    },
    {
      "cell_type": "code",
      "metadata": {
        "colab": {
          "base_uri": "https://localhost:8080/",
          "height": 297
        },
        "id": "HoK-oUhwrFjP",
        "outputId": "e973ad02-b5fd-4fe4-fcab-06bed2fa220a"
      },
      "source": [
        "plt.plot(list_n_estimator, list_random_forest1, 'g') \r\n",
        "plt.legend([\"Random Forest\"])\r\n",
        "plt.xlabel('n-Estimator') \r\n",
        "plt.ylabel('Accuracy')\r\n",
        "plt.show "
      ],
      "execution_count": 18,
      "outputs": [
        {
          "output_type": "execute_result",
          "data": {
            "text/plain": [
              "<function matplotlib.pyplot.show>"
            ]
          },
          "metadata": {
            "tags": []
          },
          "execution_count": 18
        },
        {
          "output_type": "display_data",
          "data": {
            "image/png": "[encoded data removed]",
            "text/plain": [
              "<Figure size 432x288 with 1 Axes>"
            ]
          },
          "metadata": {
            "tags": [],
            "needs_background": "light"
          }
        }
      ]
    },
    {
      "cell_type": "markdown",
      "metadata": {
        "id": "rO3iigDuEjyi"
      },
      "source": [
        "Exercise:\r\n",
        "1. Build a Decision Tree for this dataset. Run this decision tree for `max_leaf_nodes` varying from 2 to 20. Store the accuracy of the model for each of these decision trees in a list.\r\n",
        "2. Similarly build a Random Forest Model for `max_leaf_nodes` varying from 2 to 20. Store the accuracies in another list\r\n",
        "3. Plot the accuracies of the two models in a single graph, using matplotlib.\r\n",
        "4. Also plot another graph showing the effect of changing the `n_estimator` parameter of the Random FOrest constructor from 1 to 100, keeping `max_leaf_nodes` as 5.  "
      ]
    }
  ]
}